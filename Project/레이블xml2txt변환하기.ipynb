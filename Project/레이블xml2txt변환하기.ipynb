{
 "cells": [
  {
   "cell_type": "code",
   "execution_count": 11,
   "id": "9383ef52-883c-4467-88f5-cdd7991af1e7",
   "metadata": {
    "tags": []
   },
   "outputs": [
    {
     "name": "stdout",
     "output_type": "stream",
     "text": [
      "2 ['val', 'train']\n"
     ]
    }
   ],
   "source": [
    "import os\n",
    "\n",
    "folderList = os.listdir(\"/home/jupyter/highway\")\n",
    "print(len(folderList), folderList)"
   ]
  },
  {
   "cell_type": "code",
   "execution_count": 12,
   "id": "2797aba8-62bb-436a-a697-9edc56660ac5",
   "metadata": {
    "tags": []
   },
   "outputs": [
    {
     "name": "stdout",
     "output_type": "stream",
     "text": [
      "Requirement already satisfied: lxml in /opt/conda/lib/python3.10/site-packages (4.9.3)\n"
     ]
    }
   ],
   "source": [
    "!pip install lxml"
   ]
  },
  {
   "cell_type": "code",
   "execution_count": 13,
   "id": "92152191-c3f4-4527-8c7e-30108471c60d",
   "metadata": {
    "tags": []
   },
   "outputs": [],
   "source": [
    "import numpy as np\n",
    "import lxml\n",
    "import os\n",
    "\n",
    "from lxml import etree\n",
    "\n",
    "CLASSES = [\"car\", \"bus\", \"truck\"]\n",
    "\n",
    "def to_yolov8(y):\n",
    "  \"\"\"\n",
    "  # change to yolo v8 format\n",
    "  # [x_top_left, y_top_left, x_bottom_right, y_bottom_right] to\n",
    "  # [x_center, y_center, width, height]\n",
    "  \"\"\"\n",
    "  width = y[2] - y[0]\n",
    "  height = y[3] - y[1]\n",
    "\n",
    "  if width < 0 or height < 0:\n",
    "      print(\"ERROR: negative width or height \", width, height, y)\n",
    "      raise AssertionError(\"Negative width or height\")\n",
    "  return (y[0] + (width/2)), (y[1] + (height/2)), width, height\n",
    "\n",
    "\n",
    "def load_xml_annotations(f):\n",
    "  tree = etree.parse(f)\n",
    "  anns = []\n",
    "  for dim in tree.xpath(\"image\"):\n",
    "    image_filename = dim.attrib[\"name\"]\n",
    "    width = int(dim.attrib[\"width\"])\n",
    "    height = int(dim.attrib[\"height\"])\n",
    "    # print(image_filename)\n",
    "    # print(len(dim.xpath(\"box\")))\n",
    "    boxes = []\n",
    "    for box in dim.xpath(\"box\"):\n",
    "      label = CLASSES.index(box.attrib[\"label\"])\n",
    "      xtl, ytl = box.attrib[\"xtl\"], box.attrib[\"ytl\"]\n",
    "      xbr, ybr = box.attrib[\"xbr\"], box.attrib[\"ybr\"]\n",
    "\n",
    "      xc, yc, w, h = to_yolov8([float(xtl), float(ytl), float(xbr), float(ybr)])\n",
    "      boxes.append([label, round(xc/width, 5), round(yc/height, 5), round(w/width, 5), round(h/height, 5)])\n",
    "\n",
    "    anns.append([image_filename, width, height, boxes])\n",
    "\n",
    "  return np.array(anns, dtype=\"object\")\n",
    "\n",
    "\n",
    "def write_yolov8_txt(folder, annotation):\n",
    "  out_filename = os.path.join(folder,annotation[0][:-3])\n",
    "  out_filename = os.path.splitext(out_filename)[0]\n",
    "  out_filename = out_filename+'.txt'\n",
    "  #print(out_filename)\n",
    "  f = open(out_filename,\"w+\")\n",
    "  for box in annotation[3]:\n",
    "    f.write(\"{} {} {} {} {}\\n\".format(box[0], box[1], box[2], box[3], box[4]))\n",
    "  f.close()"
   ]
  },
  {
   "cell_type": "markdown",
   "id": "0b560766-2aff-4845-b8c2-22d1259f319c",
   "metadata": {
    "tags": []
   },
   "source": [
    "## xml 파일 하나 변환하기"
   ]
  },
  {
   "cell_type": "code",
   "execution_count": 34,
   "id": "0e772dd1-15b8-458b-b50a-224f16b5a15c",
   "metadata": {
    "tags": []
   },
   "outputs": [],
   "source": [
    "!mkdir /home/jupyter/highway/train/txt_total"
   ]
  },
  {
   "cell_type": "code",
   "execution_count": 35,
   "id": "2c98fca7-ed02-46eb-bd3b-a1f6e178ad19",
   "metadata": {},
   "outputs": [
    {
     "name": "stdout",
     "output_type": "stream",
     "text": [
      "150\n",
      "CPU times: user 55.2 ms, sys: 2.15 ms, total: 57.4 ms\n",
      "Wall time: 55.4 ms\n"
     ]
    }
   ],
   "source": [
    "%%time\n",
    "dataPath='/home/jupyter/highway/train/labels_total/'\n",
    "destPath='/home/jupyter/highway/train/txt_total'\n",
    "\n",
    "#basePath = os.getcwd()\n",
    "\n",
    "# 파일명을 설정한다.\n",
    "xmlFile='Suwon_CH01_20200720_1700_MON_9m_NH_highway_TW5_sunny_FHD.xml'\n",
    "\n",
    "# 현재 경로 + 파일명\n",
    "label_file = os.path.join(dataPath, xmlFile)\n",
    "\n",
    "# XML을 TXT로 변환한다.\n",
    "anns = load_xml_annotations(label_file)\n",
    "print(len(anns))\n",
    "\n",
    "## 내 파일 형식은 labels 폴더 아래에 txt 파일을 전부 푸는 것이기 때문에 아래 2개코드는 주석처리하였습니다.\n",
    "## lables/폴더명/txt파일 형식으로 지정하면 아래 코드 사용\n",
    "folderName=os.path.splitext(xmlFile)[0]\n",
    "os.makedirs(os.path.join(destPath,folderName), exist_ok=True)\n",
    "\n",
    "\n",
    "# 이미지 파일별로 TXT파일을 저장한다.\n",
    "for ann in anns:\n",
    "  write_yolov8_txt(os.path.join(destPath,folderName), ann)"
   ]
  },
  {
   "cell_type": "code",
   "execution_count": 36,
   "id": "06fbd49b-48e4-4534-ba52-c05086116520",
   "metadata": {
    "tags": []
   },
   "outputs": [],
   "source": [
    "!rm -rf highway/train/labels/Suwon_CH01_20200720_1700_MON_9m_NH_highway_TW5_sunny_FHD"
   ]
  },
  {
   "cell_type": "markdown",
   "id": "2d93d660-73ab-47d0-85f3-50173a391227",
   "metadata": {},
   "source": [
    "## train : labels_total폴더안에 있는 모든 xml파일을 변환하기"
   ]
  },
  {
   "cell_type": "code",
   "execution_count": 37,
   "id": "80a63370-94d0-4a7a-9e2e-8d4ef66780a5",
   "metadata": {
    "tags": []
   },
   "outputs": [],
   "source": [
    "# xml 목록 읽어오기\n",
    "from glob import glob\n",
    "dataPath='/home/jupyter/highway/train/labels_total/'\n",
    "xmlList = glob(dataPath+'*.xml')\n",
    "basename=[]\n",
    "for xmlFile in xmlList:\n",
    "    basename.append(os.path.basename(xmlFile))"
   ]
  },
  {
   "cell_type": "code",
   "execution_count": 42,
   "id": "f9ce982b-c5ad-46f4-81db-c30da16a5394",
   "metadata": {
    "tags": []
   },
   "outputs": [],
   "source": [
    "#basename"
   ]
  },
  {
   "cell_type": "code",
   "execution_count": 45,
   "id": "a102e3f2-7841-47a3-96ee-9a2f95801374",
   "metadata": {
    "tags": []
   },
   "outputs": [
    {
     "name": "stderr",
     "output_type": "stream",
     "text": [
      "  3%|▎         | 5/168 [00:00<00:07, 20.75it/s]"
     ]
    },
    {
     "name": "stdout",
     "output_type": "stream",
     "text": [
      "Suwon_CH04_20200721_1700_TUE_9m_RH_highway_OW5_sunny_FHD\n",
      "Suwon_CH03_20200720_1700_MON_9m_NH_highway_OW5_sunny_FHD\n",
      "Suwon_CH02_20201012_1928_MON_9m_RH_highway_TW5_sunny_FHD\n",
      "Suwon_CH04_20200722_1900_WED_9m_NH_highway_OW5_sunny_FHD\n",
      "Suwon_CH03_20200721_1530_TUE_9m_NH_highway_OW5_sunny_FHD\n",
      "Suwon_CH02_20200721_2100_TUE_9m_NH_highway_TW5_sunny_FHD\n"
     ]
    },
    {
     "name": "stderr",
     "output_type": "stream",
     "text": [
      "  5%|▍         | 8/168 [00:00<00:08, 17.87it/s]"
     ]
    },
    {
     "name": "stdout",
     "output_type": "stream",
     "text": [
      "Suwon_CH02_20200722_1700_WED_9m_RH_highway_TW5_sunny_FHD\n",
      "Suwon_CH01_20201012_1823_MON_9m_RH_highway_TW5_sunny_FHD\n",
      "Suwon_CH04_20200722_1630_WED_9m_NH_highway_OW5_rainy_FHD\n",
      "Suwon_CH01_20200722_1730_WED_9m_RH_highway_TW5_sunny_FHD\n"
     ]
    },
    {
     "name": "stderr",
     "output_type": "stream",
     "text": [
      "  8%|▊         | 14/168 [00:00<00:06, 22.67it/s]"
     ]
    },
    {
     "name": "stdout",
     "output_type": "stream",
     "text": [
      "Suwon_CH03_20200720_1830_MON_9m_NH_highway_OW5_sunny_FHD\n",
      "Suwon_CH02_20201012_1728_MON_9m_RH_highway_TW5_sunny_FHD\n",
      "Suwon_CH02_20200722_1630_WED_9m_RH_highway_TW5_rainy_FHD\n",
      "Suwon_CH04_20200722_1400_WED_9m_NH_highway_OW5_rainy_FHD\n",
      "Suwon_CH04_20200720_2000_MON_9m_NH_highway_OW5_sunny_FHD\n",
      "Suwon_CH03_20201010_1842_SAT_9m_NH_highway_OW5_sunny_FHD\n",
      "Suwon_CH04_20200721_1800_TUE_9m_RH_highway_OW5_sunny_FHD\n"
     ]
    },
    {
     "name": "stderr",
     "output_type": "stream",
     "text": [
      " 13%|█▎        | 22/168 [00:00<00:05, 27.39it/s]"
     ]
    },
    {
     "name": "stdout",
     "output_type": "stream",
     "text": [
      "Suwon_CH04_20200721_2000_TUE_9m_NH_highway_OW5_sunny_FHD\n",
      "Suwon_CH03_20200722_1630_WED_9m_NH_highway_OW5_sunny_FHD\n",
      "Suwon_CH04_20201012_1807_MON_9m_RH_highway_OW5_sunny_FHD\n",
      "Suwon_CH02_20200722_1530_WED_9m_NH_highway_TW5_rainy_FHD\n",
      "Suwon_CH01_20201011_1800_SUN_9m_RH_highway_TW5_sunny_FHD\n"
     ]
    },
    {
     "name": "stderr",
     "output_type": "stream",
     "text": [
      " 15%|█▍        | 25/168 [00:01<00:05, 27.03it/s]"
     ]
    },
    {
     "name": "stdout",
     "output_type": "stream",
     "text": [
      "Suwon_CH01_20200721_1500_TUE_9m_NH_highway_TW5_sunny_FHD\n",
      "Suwon_CH04_20201213_0737_SUN_9m_NH_highway_OW5_snow_FHD\n",
      "Suwon_CH03_20200722_1900_WED_9m_NH_highway_OW5_sunny_FHD\n",
      "Suwon_CH03_20200721_1800_TUE_9m_RH_highway_OW5_sunny_FHD\n",
      "Suwon_CH01_20200720_1800_MON_9m_NH_highway_TW5_sunny_FHD\n"
     ]
    },
    {
     "name": "stderr",
     "output_type": "stream",
     "text": [
      " 17%|█▋        | 28/168 [00:01<00:09, 15.25it/s]"
     ]
    },
    {
     "name": "stdout",
     "output_type": "stream",
     "text": [
      "Suwon_CH03_20200722_1500_WED_9m_NH_highway_OW5_rainy_FHD\n",
      "Suwon_CH02_20200721_1800_TUE_9m_RH_highway_TW5_sunny_FHD\n",
      "Suwon_CH03_20200720_1900_MON_9m_NH_highway_OW5_sunny_FHD\n",
      "Suwon_CH03_20200721_1430_TUE_9m_NH_highway_OW5_sunny_FHD\n"
     ]
    },
    {
     "name": "stderr",
     "output_type": "stream",
     "text": [
      " 20%|██        | 34/168 [00:01<00:07, 18.04it/s]"
     ]
    },
    {
     "name": "stdout",
     "output_type": "stream",
     "text": [
      "Suwon_CH03_20201012_1732_MON_9m_RH_highway_OW5_sunny_FHD\n",
      "Suwon_CH01_20200720_1700_MON_9m_NH_highway_TW5_sunny_FHD\n",
      "Suwon_CH02_20200720_1830_MON_9m_NH_highway_TW5_sunny_FHD\n",
      "Suwon_CH03_20200720_1930_MON_9m_NH_highway_OW5_sunny_FHD\n",
      "Suwon_CH01_20200720_2030_MON_9m_NH_highway_TW5_sunny_FHD\n",
      "Suwon_CH01_20201012_1753_MON_9m_RH_highway_TW5_sunny_FHD\n"
     ]
    },
    {
     "name": "stderr",
     "output_type": "stream",
     "text": [
      " 22%|██▏       | 37/168 [00:01<00:06, 20.39it/s]"
     ]
    },
    {
     "name": "stdout",
     "output_type": "stream",
     "text": [
      "Suwon_CH02_20201213_0732_SUN_9m_NH_highway_TW5_snow_FHD\n",
      "Suwon_CH04_20200722_1800_WED_9m_NH_highway_OW5_sunny_FHD\n",
      "Suwon_CH01_20200722_1830_WED_9m_RH_highway_TW5_sunny_FHD\n"
     ]
    },
    {
     "name": "stderr",
     "output_type": "stream",
     "text": [
      " 26%|██▌       | 44/168 [00:02<00:06, 19.04it/s]"
     ]
    },
    {
     "name": "stdout",
     "output_type": "stream",
     "text": [
      "Suwon_CH01_20200722_1500_WED_9m_NH_highway_TW5_rainy_FHD\n",
      "Suwon_CH04_20201011_1919_SUN_9m_RH_highway_OW5_sunny_FHD\n",
      "Suwon_CH02_20200720_1900_MON_9m_NH_highway_TW5_sunny_FHD\n",
      "Suwon_CH04_20201010_1717_SAT_9m_NH_highway_OW5_sunny_FHD\n",
      "Suwon_CH02_20200722_1400_WED_9m_NH_highway_TW5_rainy_FHD\n"
     ]
    },
    {
     "name": "stderr",
     "output_type": "stream",
     "text": [
      " 29%|██▊       | 48/168 [00:02<00:05, 22.15it/s]"
     ]
    },
    {
     "name": "stdout",
     "output_type": "stream",
     "text": [
      "Suwon_CH03_20201213_0936_SUN_9m_NH_highway_OW5_snow_FHD\n",
      "Suwon_CH03_20201011_1812_SUN_9m_RH_highway_OW5_sunny_FHD\n",
      "Suwon_CH04_20201012_1908_MON_9m_RH_highway_OW5_sunny_FHD\n",
      "Suwon_CH01_20201213_1030_SUN_9m_NH_highway_TW5_snow_FHD\n",
      "Suwon_CH01_20200720_2000_MON_9m_NH_highway_TW5_sunny_FHD\n",
      "Suwon_CH02_20200721_1630_TUE_9m_NH_highway_TW5_sunny_FHD\n"
     ]
    },
    {
     "name": "stderr",
     "output_type": "stream",
     "text": [
      " 33%|███▎      | 55/168 [00:02<00:04, 26.70it/s]"
     ]
    },
    {
     "name": "stdout",
     "output_type": "stream",
     "text": [
      "Suwon_CH02_20200721_1500_TUE_9m_NH_highway_TW5_sunny_FHD\n",
      "Suwon_CH02_20201010_1837_SAT_9m_RH_highway_TW5_sunny_FHD\n",
      "Suwon_CH03_20200721_1600_TUE_9m_NH_highway_OW5_sunny_FHD\n",
      "Suwon_CH04_20200721_1530_TUE_9m_NH_highway_OW5_sunny_FHD\n",
      "Suwon_CH01_20201012_1923_MON_9m_RH_highway_TW5_sunny_FHD\n",
      "Suwon_CH04_20201012_1939_MON_9m_RH_highway_OW5_sunny_FHD\n",
      "Suwon_CH04_20200721_2030_TUE_9m_NH_highway_OW5_sunny_FHD\n"
     ]
    },
    {
     "name": "stderr",
     "output_type": "stream",
     "text": [
      " 38%|███▊      | 63/168 [00:02<00:03, 29.00it/s]"
     ]
    },
    {
     "name": "stdout",
     "output_type": "stream",
     "text": [
      "Suwon_CH01_20200720_1930_MON_9m_NH_highway_TW5_sunny_FHD\n",
      "Suwon_CH02_20200721_2130_TUE_9m_NH_highway_TW5_sunny_FHD\n",
      "Suwon_CH03_20200721_1930_TUE_9m_NH_highway_OW5_sunny_FHD\n",
      "Suwon_CH01_20200720_1900_MON_9m_RH_highway_TW5_sunny_FHD\n",
      "Suwon_CH03_20200721_2130_TUE_9m_NH_highway_OW5_sunny_FHD\n",
      "Suwon_CH03_20200720_1730_MON_9m_NH_highway_OW5_sunny_FHD\n",
      "Suwon_CH01_20200721_1930_TUE_9m_RH_highway_TW5_sunny_FHD\n"
     ]
    },
    {
     "name": "stderr",
     "output_type": "stream",
     "text": [
      " 40%|███▉      | 67/168 [00:03<00:03, 25.75it/s]"
     ]
    },
    {
     "name": "stdout",
     "output_type": "stream",
     "text": [
      "Suwon_CH02_20200720_1930_MON_9m_NH_highway_TW5_sunny_FHD\n",
      "Suwon_CH01_20201213_0730_SUN_9m_NH_highway_TW5_snow_FHD\n",
      "Suwon_CH01_20200720_1730_MON_9m_NH_highway_TW5_sunny_FHD\n",
      "Suwon_CH03_20200721_1700_TUE_9m_RH_highway_OW5_sunny_FHD\n",
      "Suwon_CH04_20200720_2030_MON_9m_NH_highway_OW5_sunny_FHD\n"
     ]
    },
    {
     "name": "stderr",
     "output_type": "stream",
     "text": [
      " 43%|████▎     | 73/168 [00:03<00:03, 24.16it/s]"
     ]
    },
    {
     "name": "stdout",
     "output_type": "stream",
     "text": [
      "Suwon_CH04_20200721_1930_TUE_9m_NH_highway_OW5_sunny_FHD\n",
      "Suwon_CH04_20200722_1430_WED_9m_NH_highway_OW5_rainy_FHD\n",
      "Suwon_CH04_20201213_0838_SUN_9m_NH_highway_OW5_snow_FHD\n",
      "Suwon_CH04_20200721_1630_TUE_9m_NH_highway_OW5_sunny_FHD\n",
      "Suwon_CH03_20201012_1903_MON_9m_RH_highway_OW5_sunny_FHD\n"
     ]
    },
    {
     "name": "stderr",
     "output_type": "stream",
     "text": [
      " 48%|████▊     | 81/168 [00:03<00:02, 29.60it/s]"
     ]
    },
    {
     "name": "stdout",
     "output_type": "stream",
     "text": [
      "Suwon_CH01_20200722_1530_WED_9m_NH_highway_TW5_rainy_FHD\n",
      "Suwon_CH03_20200720_2000_MON_9m_NH_highway_OW5_sunny_FHD\n",
      "Suwon_CH04_20200720_1930_MON_9m_NH_highway_OW5_sunny_FHD\n",
      "Suwon_CH02_20200720_1700_MON_9m_NH_highway_TW5_sunny_FHD\n",
      "Suwon_CH02_20200721_2000_TUE_9m_NH_highway_TW5_sunny_FHD\n",
      "Suwon_CH03_20200722_1600_WED_9m_NH_highway_OW5_sunny_FHD\n",
      "Suwon_CH03_20201012_1802_MON_9m_RH_highway_OW5_sunny_FHD\n",
      "Suwon_CH04_20201012_1706_MON_9m_RH_highway_OW5_sunny_FHD\n"
     ]
    },
    {
     "name": "stderr",
     "output_type": "stream",
     "text": [
      " 54%|█████▎    | 90/168 [00:03<00:02, 32.08it/s]"
     ]
    },
    {
     "name": "stdout",
     "output_type": "stream",
     "text": [
      "Suwon_CH04_20200720_1900_MON_9m_NH_highway_OW5_sunny_FHD\n",
      "Suwon_CH01_20201012_1853_MON_9m_RH_highway_TW5_sunny_FHD\n",
      "Suwon_CH04_20200722_1530_WED_9m_NH_highway_OW5_rainy_FHD\n",
      "Suwon_CH03_20201213_0704_SUN_9m_NH_highway_OW5_snow_FHD\n",
      "Suwon_CH01_20201010_1900_SAT_9m_NH_highway_TW5_sunny_FHD\n",
      "Suwon_CH01_20201011_1900_SUN_9m_RH_highway_TW5_sunny_FHD\n",
      "Suwon_CH03_20201011_1843_SUN_9m_RH_highway_OW5_sunny_FHD\n",
      "Suwon_CH03_20200721_2100_TUE_9m_NH_highway_OW5_sunny_FHD\n"
     ]
    },
    {
     "name": "stderr",
     "output_type": "stream",
     "text": [
      " 56%|█████▌    | 94/168 [00:03<00:02, 32.84it/s]"
     ]
    },
    {
     "name": "stdout",
     "output_type": "stream",
     "text": [
      "Suwon_CH04_20200720_1800_MON_9m_NH_highway_OW5_sunny_FHD\n",
      "Suwon_CH02_20200722_1830_WED_9m_RH_highway_TW5_sunny_FHD\n",
      "Suwon_CH02_20201011_1906_SUN_9m_RH_highway_TW5_sunny_FHD\n",
      "Suwon_CH04_20200722_1500_WED_9m_NH_highway_OW5_rainy_FHD\n",
      "Suwon_CH03_20200722_1530_WED_9m_NH_highway_OW5_rainy_FHD\n",
      "Suwon_CH02_20201213_1204_SUN_9m_NH_highway_TW5_snow_FHD\n",
      "Suwon_CH01_20200722_1600_WED_9m_RH_highway_TW5_rainy_FHD\n"
     ]
    },
    {
     "name": "stderr",
     "output_type": "stream",
     "text": [
      " 61%|██████    | 102/168 [00:04<00:02, 26.52it/s]"
     ]
    },
    {
     "name": "stdout",
     "output_type": "stream",
     "text": [
      "Suwon_CH01_20201010_1730_SAT_9m_RH_highway_TW5_sunny_FHD\n",
      "Suwon_CH01_20200721_2100_TUE_9m_NH_highway_TW5_sunny_FHD\n",
      "Suwon_CH02_20200722_1800_WED_9m_RH_highway_TW5_sunny_FHD\n",
      "Suwon_CH01_20201213_0700_SUN_9m_NH_highway_TW5_snow_FHD\n"
     ]
    },
    {
     "name": "stderr",
     "output_type": "stream",
     "text": [
      " 63%|██████▎   | 106/168 [00:04<00:02, 29.21it/s]"
     ]
    },
    {
     "name": "stdout",
     "output_type": "stream",
     "text": [
      "Suwon_CH02_20200720_1730_MON_9m_NH_highway_TW5_sunny_FHD\n",
      "Suwon_CH04_20200722_1700_WED_9m_NH_highway_OW5_sunny_FHD\n",
      "Suwon_CH02_20200722_1430_WED_9m_NH_highway_TW5_rainy_FHD\n",
      "Suwon_CH03_20201011_1943_SUN_9m_RH_highway_OW5_sunny_FHD\n",
      "Suwon_CH02_20201012_1828_MON_9m_RH_highway_TW5_sunny_FHD\n",
      "Suwon_CH03_20201213_0835_SUN_9m_NH_highway_OW5_snow_FHD\n",
      "Suwon_CH02_20200721_1930_TUE_9m_RH_highway_TW5_sunny_FHD\n"
     ]
    },
    {
     "name": "stderr",
     "output_type": "stream",
     "text": [
      " 68%|██████▊   | 114/168 [00:04<00:01, 28.70it/s]"
     ]
    },
    {
     "name": "stdout",
     "output_type": "stream",
     "text": [
      "Suwon_CH02_20200721_1530_TUE_9m_NH_highway_TW5_sunny_FHD\n",
      "Suwon_CH01_20200722_1800_WED_9m_RH_highway_TW5_sunny_FHD\n",
      "Suwon_CH01_20200722_1400_WED_9m_NH_highway_TW5_rainy_FHD\n",
      "Suwon_CH01_20201213_0930_SUN_9m_NH_highway_TW5_snow_FHD\n",
      "Suwon_CH02_20201012_1858_MON_9m_RH_highway_TW5_sunny_FHD\n"
     ]
    },
    {
     "name": "stderr",
     "output_type": "stream",
     "text": [
      " 70%|███████   | 118/168 [00:04<00:02, 24.50it/s]"
     ]
    },
    {
     "name": "stdout",
     "output_type": "stream",
     "text": [
      "Suwon_CH01_20200721_1900_TUE_9m_RH_highway_TW5_sunny_FHD\n",
      "Suwon_CH02_20200722_1900_WED_9m_RH_highway_TW5_sunny_FHD\n",
      "Suwon_CH01_20201012_1653_MON_9m_RH_highway_TW5_sunny_FHD\n",
      "Suwon_CH04_20200721_1900_TUE_9m_RH_highway_OW5_sunny_FHD\n",
      "Suwon_CH04_20201012_1737_MON_9m_RH_highway_OW5_sunny_FHD\n",
      "Suwon_CH03_20200722_1730_WED_9m_NH_highway_OW5_sunny_FHD\n"
     ]
    },
    {
     "name": "stderr",
     "output_type": "stream",
     "text": [
      " 73%|███████▎  | 122/168 [00:05<00:01, 25.01it/s]"
     ]
    },
    {
     "name": "stdout",
     "output_type": "stream",
     "text": [
      "Suwon_CH03_20201010_1742_SAT_9m_RH_highway_OW5_sunny_FHD\n",
      "Suwon_CH02_20200720_1600_MON_9m_NH_highway_TW5_sunny_FHD\n",
      "Suwon_CH02_20200721_1830_TUE_9m_RH_highway_TW5_sunny_FHD\n"
     ]
    },
    {
     "name": "stderr",
     "output_type": "stream",
     "text": [
      " 74%|███████▍  | 125/168 [00:05<00:02, 20.04it/s]"
     ]
    },
    {
     "name": "stdout",
     "output_type": "stream",
     "text": [
      "Suwon_CH03_20201012_1833_MON_9m_RH_highway_OW5_sunny_FHD\n",
      "Suwon_CH01_20201010_1830_SAT_9m_RH_highway_TW5_sunny_FHD\n"
     ]
    },
    {
     "name": "stderr",
     "output_type": "stream",
     "text": [
      " 76%|███████▌  | 128/168 [00:05<00:02, 16.57it/s]"
     ]
    },
    {
     "name": "stdout",
     "output_type": "stream",
     "text": [
      "Suwon_CH03_20200722_1400_WED_9m_NH_highway_OW5_rainy_FHD\n",
      "Suwon_CH03_20200722_1800_WED_9m_NH_highway_OW5_sunny_FHD\n",
      "Suwon_CH01_20201010_1800_SAT_9m_RH_highway_TW5_sunny_FHD\n",
      "Suwon_CH02_20200722_1930_WED_9m_NH_highway_TW5_sunny_FHD\n"
     ]
    },
    {
     "name": "stderr",
     "output_type": "stream",
     "text": [
      " 79%|███████▉  | 133/168 [00:05<00:02, 17.08it/s]"
     ]
    },
    {
     "name": "stdout",
     "output_type": "stream",
     "text": [
      "Suwon_CH01_20200722_1330_WED_9m_NH_highway_TW5_rainy_FHD\n",
      "Suwon_CH02_20201213_1033_SUN_9m_NH_highway_TW5_snow_FHD\n",
      "Suwon_CH03_20200721_2030_TUE_9m_NH_highway_OW5_sunny_FHD\n",
      "Suwon_CH04_20201010_1849_SAT_9m_NH_highway_OW5_sunny_FHD\n",
      "Suwon_CH04_20201213_1142_SUN_9m_NH_highway_OW5_snow_FHD\n"
     ]
    },
    {
     "name": "stderr",
     "output_type": "stream",
     "text": [
      " 82%|████████▏ | 137/168 [00:05<00:01, 20.01it/s]"
     ]
    },
    {
     "name": "stdout",
     "output_type": "stream",
     "text": [
      "Suwon_CH03_20201011_1913_SUN_9m_RH_highway_OW5_sunny_FHD\n",
      "Suwon_CH04_20201011_1818_SUN_9m_RH_highway_OW5_sunny_FHD\n",
      "Suwon_CH03_20200721_1830_TUE_9m_RH_highway_OW5_sunny_FHD\n"
     ]
    },
    {
     "name": "stderr",
     "output_type": "stream",
     "text": [
      " 83%|████████▎ | 140/168 [00:06<00:01, 17.17it/s]"
     ]
    },
    {
     "name": "stdout",
     "output_type": "stream",
     "text": [
      "Suwon_CH01_20200721_1730_TUE_9m_RH_highway_TW5_sunny_FHD\n",
      "Suwon_CH02_20201011_1736_SUN_9m_RH_highway_TW5_sunny_FHD\n",
      "Suwon_CH04_20200722_1930_WED_9m_NH_highway_OW5_sunny_FHD\n",
      "Suwon_CH02_20201010_1807_SAT_9m_RH_highway_TW5_sunny_FHD\n",
      "Suwon_CH02_20200720_2000_MON_9m_NH_highway_TW5_sunny_FHD\n",
      "Suwon_CH01_20200721_2030_TUE_9m_NH_highway_TW5_sunny_FHD\n"
     ]
    },
    {
     "name": "stderr",
     "output_type": "stream",
     "text": [
      " 87%|████████▋ | 146/168 [00:06<00:01, 19.17it/s]"
     ]
    },
    {
     "name": "stdout",
     "output_type": "stream",
     "text": [
      "Suwon_CH01_20200722_1630_WED_9m_RH_highway_TW5_sunny_FHD\n",
      "Suwon_CH03_20201010_1812_SAT_9m_RH_highway_OW5_sunny_FHD\n",
      "Suwon_CH02_20200720_1630_MON_9m_NH_highway_TW5_sunny_FHD\n",
      "Suwon_CH01_20200721_1800_TUE_9m_RH_highway_TW5_sunny_FHD\n"
     ]
    },
    {
     "name": "stderr",
     "output_type": "stream",
     "text": [
      " 90%|█████████ | 152/168 [00:06<00:00, 20.47it/s]"
     ]
    },
    {
     "name": "stdout",
     "output_type": "stream",
     "text": [
      "Suwon_CH01_20200721_1600_TUE_9m_NH_highway_TW5_sunny_FHD\n",
      "Suwon_CH02_20201011_1836_SUN_9m_RH_highway_TW5_sunny_FHD\n",
      "Suwon_CH04_20200720_1700_MON_9m_NH_highway_OW5_sunny_FHD\n",
      "Suwon_CH03_20201213_1137_SUN_9m_NH_highway_OW5_snow_FHD\n",
      "Suwon_CH02_20201012_1657_MON_9m_RH_highway_TW5_sunny_FHD\n",
      "Suwon_CH04_20200720_1600_MON_9m_NH_highway_OW5_sunny_FHD\n",
      "Suwon_CH03_20200721_1500_TUE_9m_NH_highway_OW5_sunny_FHD\n"
     ]
    },
    {
     "name": "stderr",
     "output_type": "stream",
     "text": [
      " 96%|█████████▌| 161/168 [00:06<00:00, 28.28it/s]"
     ]
    },
    {
     "name": "stdout",
     "output_type": "stream",
     "text": [
      "Suwon_CH02_20201010_1908_SAT_9m_NH_highway_TW5_sunny_FHD\n",
      "Suwon_CH04_20201011_1748_SUN_9m_RH_highway_OW5_sunny_FHD\n",
      "Suwon_CH04_20200722_1730_WED_9m_NH_highway_OW5_sunny_FHD\n",
      "Suwon_CH04_20201010_1748_SAT_9m_RH_highway_OW5_sunny_FHD\n",
      "Suwon_CH03_20200722_1830_WED_9m_RH_highway_OW5_sunny_FHD\n",
      "Suwon_CH01_20201011_1830_SUN_9m_RH_highway_TW5_sunny_FHD\n",
      "Suwon_CH01_20200722_1900_WED_9m_RH_highway_TW5_sunny_FHD\n"
     ]
    },
    {
     "name": "stderr",
     "output_type": "stream",
     "text": [
      " 98%|█████████▊| 165/168 [00:07<00:00, 25.04it/s]"
     ]
    },
    {
     "name": "stdout",
     "output_type": "stream",
     "text": [
      "Suwon_CH01_20200721_1630_TUE_9m_NH_highway_TW5_sunny_FHD\n",
      "Suwon_CH04_20201011_1717_SUN_9m_NH_highway_OW5_sunny_FHD\n",
      "Suwon_CH02_20200722_1600_WED_9m_RH_highway_TW5_rainy_FHD\n",
      "Suwon_CH01_20200721_1530_TUE_9m_NH_highway_TW5_sunny_FHD\n",
      "Suwon_CH04_20200720_1730_MON_9m_NH_highway_OW5_sunny_FHD\n"
     ]
    },
    {
     "name": "stderr",
     "output_type": "stream",
     "text": [
      "100%|██████████| 168/168 [00:07<00:00, 23.03it/s]"
     ]
    },
    {
     "name": "stdout",
     "output_type": "stream",
     "text": [
      "Suwon_CH03_20201010_1913_SAT_9m_NH_highway_OW5_sunny_FHD\n",
      "Suwon_CH02_20200721_1600_TUE_9m_NH_highway_TW5_sunny_FHD\n",
      "CPU times: user 5.68 s, sys: 780 ms, total: 6.46 s\n",
      "Wall time: 7.3 s\n"
     ]
    },
    {
     "name": "stderr",
     "output_type": "stream",
     "text": [
      "\n"
     ]
    }
   ],
   "source": [
    "%%time\n",
    "dataPath='/home/jupyter/highway/train/labels_total/'\n",
    "destPath='/home/jupyter/highway/train/txt_total'\n",
    "\n",
    "for xmlFile in basename:\n",
    "    # 현재 경로 + 파일명\n",
    "    label_file = os.path.join(dataPath, xmlFile)\n",
    "\n",
    "    # XML을 TXT로 변환한다.\n",
    "    anns = load_xml_annotations(label_file)\n",
    "    #print(len(anns))\n",
    "    folderName=os.path.splitext(xmlFile)[0]\n",
    "    print(folderName)\n",
    "    os.makedirs(os.path.join(destPath,folderName), exist_ok=True)\n",
    "\n",
    "\n",
    "    # 이미지 파일별로 TXT파일을 저장한다.\n",
    "    for ann in anns:\n",
    "      write_yolov8_txt(os.path.join(destPath,folderName), ann)"
   ]
  },
  {
   "cell_type": "code",
   "execution_count": 49,
   "id": "8069057a-316a-41e3-8dea-22a3f19fe667",
   "metadata": {
    "tags": []
   },
   "outputs": [
    {
     "data": {
      "text/plain": [
       "168"
      ]
     },
     "execution_count": 49,
     "metadata": {},
     "output_type": "execute_result"
    }
   ],
   "source": [
    "len(os.listdir('/home/jupyter/highway/train/txt_total'))"
   ]
  },
  {
   "cell_type": "markdown",
   "id": "a33d9233-e148-4d76-b6b1-07a02f741297",
   "metadata": {},
   "source": [
    "## val : labels_total폴더안에 있는 모든 xml파일을 변환하기"
   ]
  },
  {
   "cell_type": "code",
   "execution_count": 67,
   "id": "c4159b35-444a-49b9-aa6f-67af99f93a6d",
   "metadata": {
    "tags": []
   },
   "outputs": [],
   "source": [
    "#!mkdir /home/jupyter/highway/val/txt_total"
   ]
  },
  {
   "cell_type": "code",
   "execution_count": 68,
   "id": "074f8032-6715-4df3-a184-9d3251545b55",
   "metadata": {
    "tags": []
   },
   "outputs": [
    {
     "name": "stdout",
     "output_type": "stream",
     "text": [
      "Suwon_CH04_20201012_1838_MON_9m_RH_highway_OW5_sunny_FHD\n",
      "Suwon_CH02_20200721_2030_TUE_9m_NH_highway_TW5_sunny_FHD\n",
      "Suwon_CH03_20201012_1933_MON_9m_RH_highway_OW5_sunny_FHD\n",
      "Suwon_CH02_20201213_0933_SUN_9m_NH_highway_TW5_snow_FHD\n",
      "Suwon_CH02_20201011_1806_SUN_9m_RH_highway_TW5_sunny_FHD\n",
      "Suwon_CH02_20200722_1730_WED_9m_NH_highway_TW5_sunny_FHD\n",
      "Suwon_CH01_20200722_1930_WED_9m_NH_highway_TW5_sunny_FHD\n",
      "Suwon_CH04_20201010_1818_SAT_9m_RH_highway_OW5_sunny_FHD\n",
      "Suwon_CH02_20200720_2130_MON_9m_NH_highway_TW5_sunny_FHD\n",
      "Suwon_CH03_20200720_2030_MON_9m_NH_highway_OW5_sunny_FHD\n",
      "Suwon_CH04_20200721_1830_TUE_9m_RH_highway_OW5_sunny_FHD\n",
      "Suwon_CH03_20201011_1742_SUN_9m_RH_highway_OW5_sunny_FHD\n",
      "Suwon_CH01_20201213_1200_SUN_9m_NH_highway_TW5_snow_FHD\n",
      "Suwon_CH04_20200722_1600_WED_9m_NH_highway_OW5_rainy_FHD\n",
      "Suwon_CH03_20200722_1700_WED_9m_NH_highway_OW5_sunny_FHD\n",
      "Suwon_CH01_20200720_1830_MON_9m_RH_highway_TW5_sunny_FHD\n",
      "Suwon_CH03_20200721_2000_TUE_9m_NH_highway_OW5_sunny_FHD\n",
      "Suwon_CH04_20200720_1830_MON_9m_NH_highway_OW5_sunny_FHD\n",
      "Suwon_CH01_20201012_1723_MON_9m_RH_highway_TW5_sunny_FHD\n",
      "Suwon_CH01_20200722_1430_WED_9m_NH_highway_TW5_rainy_FHD\n",
      "Suwon_CH01_20200721_1700_TUE_9m_RH_highway_TW5_sunny_FHD\n",
      "CPU times: user 825 ms, sys: 92.6 ms, total: 918 ms\n",
      "Wall time: 914 ms\n"
     ]
    }
   ],
   "source": [
    "%%time\n",
    "# xml 목록 읽어오기\n",
    "from glob import glob\n",
    "dataPath='/home/jupyter/highway/val/labels_total/'\n",
    "xmlList = glob(dataPath+'*.xml')\n",
    "basename=[]\n",
    "for xmlFile in xmlList:\n",
    "    basename.append(os.path.basename(xmlFile))\n",
    "    \n",
    "dataPath='/home/jupyter/highway/val/labels_total'\n",
    "destPath='/home/jupyter/highway/val/txt_total'\n",
    "\n",
    "for xmlFile in basename:\n",
    "    # 현재 경로 + 파일명\n",
    "    label_file = os.path.join(dataPath, xmlFile)\n",
    "\n",
    "    # XML을 TXT로 변환한다.\n",
    "    anns = load_xml_annotations(label_file)\n",
    "    #print(len(anns))\n",
    "    folderName=os.path.splitext(xmlFile)[0]\n",
    "    print(folderName)\n",
    "    os.makedirs(os.path.join(destPath,folderName), exist_ok=True)\n",
    "\n",
    "\n",
    "    # 이미지 파일별로 TXT파일을 저장한다.\n",
    "    for ann in anns:\n",
    "      write_yolov8_txt(os.path.join(destPath,folderName), ann)"
   ]
  },
  {
   "cell_type": "code",
   "execution_count": 69,
   "id": "16d182fb-e742-4a3d-ad15-3983a566954c",
   "metadata": {},
   "outputs": [
    {
     "data": {
      "text/plain": [
       "(0, 3334)"
      ]
     },
     "execution_count": 69,
     "metadata": {},
     "output_type": "execute_result"
    }
   ],
   "source": [
    "import glob\n",
    "a = glob.glob(\"/home/jupyter/highway/train/txt_total/*/*\")\n",
    "b = glob.glob(\"/home/jupyter/highway/val/txt_total/*/*\")\n",
    "len(a), len(b)"
   ]
  },
  {
   "cell_type": "code",
   "execution_count": null,
   "id": "a6f4ae75-5e8f-4cc9-a3ae-dca6a5a85955",
   "metadata": {},
   "outputs": [],
   "source": []
  }
 ],
 "metadata": {
  "environment": {
   "kernel": "python3",
   "name": ".m113",
   "type": "gcloud",
   "uri": "gcr.io/deeplearning-platform-release/:m113"
  },
  "kernelspec": {
   "display_name": "Python 3",
   "language": "python",
   "name": "python3"
  },
  "language_info": {
   "codemirror_mode": {
    "name": "ipython",
    "version": 3
   },
   "file_extension": ".py",
   "mimetype": "text/x-python",
   "name": "python",
   "nbconvert_exporter": "python",
   "pygments_lexer": "ipython3",
   "version": "3.10.13"
  }
 },
 "nbformat": 4,
 "nbformat_minor": 5
}
