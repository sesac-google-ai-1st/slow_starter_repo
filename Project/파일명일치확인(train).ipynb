{
 "cells": [
  {
   "cell_type": "markdown",
   "id": "742ba9a8-0980-41fa-bf2e-05a1748a3a9f",
   "metadata": {},
   "source": [
    "## 이미지와 레이블이 동일한 폴더 동일한 파일이 존재하는지 확인"
   ]
  },
  {
   "cell_type": "code",
   "execution_count": 1,
   "id": "77ee1cc0-d395-44ca-94de-ac9686aa6a60",
   "metadata": {
    "tags": []
   },
   "outputs": [],
   "source": [
    "import os\n",
    "\n",
    "trainPath = '/home/jupyter/highway/train/'\n",
    "\n",
    "trainImagePath = os.path.join(trainPath,'images') \n",
    "trainLabelPath = os.path.join(trainPath,'labels') "
   ]
  },
  {
   "cell_type": "code",
   "execution_count": 2,
   "id": "7bc199ba-ad0c-4a6e-89b6-edc3c9fe8529",
   "metadata": {
    "tags": []
   },
   "outputs": [
    {
     "data": {
      "text/plain": [
       "('/home/jupyter/highway/train/images', '/home/jupyter/highway/train/labels')"
      ]
     },
     "execution_count": 2,
     "metadata": {},
     "output_type": "execute_result"
    }
   ],
   "source": [
    "trainImagePath, trainLabelPath"
   ]
  },
  {
   "cell_type": "markdown",
   "id": "ce0a29d6-64f7-46fc-80ae-c89b25a9dd09",
   "metadata": {
    "tags": []
   },
   "source": [
    "## 이미지의 폴더와 레이블의 폴더의 이름과 갯수가 동일한지\n",
    "- 작성자는 폴더에서 이미 데이터를 꺼내놔서 false_count로 올라감"
   ]
  },
  {
   "cell_type": "code",
   "execution_count": 14,
   "id": "40296d5d-3a07-420b-a7b2-59878034f92b",
   "metadata": {
    "tags": []
   },
   "outputs": [],
   "source": [
    "ImagefileName = os.listdir(trainImagePath)\n",
    "LabelfileName = os.listdir(trainLabelPath)"
   ]
  },
  {
   "cell_type": "code",
   "execution_count": 15,
   "id": "25f17f16-27d0-4699-a301-717e24c9de99",
   "metadata": {
    "tags": []
   },
   "outputs": [
    {
     "name": "stdout",
     "output_type": "stream",
     "text": [
      "0\n",
      "24101\n"
     ]
    }
   ],
   "source": [
    "true_count=0\n",
    "false_count=0\n",
    "for fileName in ImagefileName:\n",
    "    if fileName in LabelfileName:\n",
    "        true_count+=1\n",
    "    else:\n",
    "        false_count+=1\n",
    "\n",
    "print(true_count)\n",
    "print(false_count)"
   ]
  },
  {
   "cell_type": "code",
   "execution_count": 16,
   "id": "1f159d99-26aa-4e43-ae9c-af1ab9b89ce1",
   "metadata": {
    "tags": []
   },
   "outputs": [
    {
     "data": {
      "text/plain": [
       "'Suwon_CH03_20201213_0835_SUN_9m_NH_highway_OW5_snow_FHD_052.png'"
      ]
     },
     "execution_count": 16,
     "metadata": {},
     "output_type": "execute_result"
    }
   ],
   "source": [
    "fileName = ImagefileName[0]\n",
    "fileName"
   ]
  },
  {
   "cell_type": "code",
   "execution_count": 17,
   "id": "39b9a885-f22b-4a37-ad4f-24e08635175c",
   "metadata": {
    "tags": []
   },
   "outputs": [
    {
     "data": {
      "text/plain": [
       "'/home/jupyter/highway/train/images/Suwon_CH03_20201213_0835_SUN_9m_NH_highway_OW5_snow_FHD_052.png'"
      ]
     },
     "execution_count": 17,
     "metadata": {},
     "output_type": "execute_result"
    }
   ],
   "source": [
    "imagefullPath = os.path.join('/home/jupyter/highway/train/images/'+ fileName)\n",
    "imagefullPath"
   ]
  },
  {
   "cell_type": "markdown",
   "id": "5597e485-0899-47a7-9290-4cc75d769e37",
   "metadata": {
    "tags": []
   },
   "source": [
    "## 파일명이 동일한지 확인 (폴더 한개 확인) \n",
    "-  작성자는 images 폴더안에 데이터를 모두 풀어넣어서 해당 코드로 한번에 확인함"
   ]
  },
  {
   "cell_type": "code",
   "execution_count": 40,
   "id": "0e8e1d5b-5904-4290-8647-0656ec93d7ea",
   "metadata": {
    "tags": []
   },
   "outputs": [
    {
     "name": "stdout",
     "output_type": "stream",
     "text": [
      "iamge 총 개수: 24101\n"
     ]
    }
   ],
   "source": [
    "from glob import glob\n",
    "\n",
    "fileName = ImagefileName[0]\n",
    "imagefullPath = os.path.join('/home/jupyter/highway/train/', 'images')\n",
    "labelfullPath = os.path.join('/home/jupyter/highway/train/', 'labels')\n",
    "\n",
    "#print(fullPath+'/*.png')\n",
    "imagefiles_png = glob(imagefullPath+'/*.png')\n",
    "imagefiles_jpg = glob(imagefullPath+'/*.jpg')\n",
    "\n",
    "labelfiles = glob(labelfullPath+'/*.txt')\n",
    "# imagefiles\n",
    "# labelfiles\n",
    "# imagefiles에서 확장자 제거 + 앞에 경로 제거\n",
    "split_imagefiles =[]\n",
    "\n",
    "# png 파일의 확장자를 제거하고 이름만 리스트에 담기\n",
    "for imagefile in imagefiles_png:\n",
    "    split_imagefiles.append(os.path.basename(os.path.splitext(imagefile)[0]))\n",
    "    \n",
    "# jpg 파일의 확장자를 제거하고 이름만 리스트에 담기\n",
    "for imagefile in imagefiles_jpg:\n",
    "    split_imagefiles.append(os.path.basename(os.path.splitext(imagefile)[0]))\n",
    "\n",
    "\n",
    "print('iamge 총 개수:',len(split_imagefiles))\n",
    "# split_imagefiles"
   ]
  },
  {
   "cell_type": "code",
   "execution_count": 45,
   "id": "b7561e8b-10e5-4b88-9b4a-3b8e2323f19d",
   "metadata": {
    "tags": []
   },
   "outputs": [
    {
     "name": "stdout",
     "output_type": "stream",
     "text": [
      "label 총 개수: 24104\n"
     ]
    }
   ],
   "source": [
    "# labelfiles에서 확장자 제거 + 앞에 경로 제거\n",
    "split_labelfiles =[]\n",
    "for labelfile in labelfiles:\n",
    "    split_labelfiles.append(os.path.basename(os.path.splitext(labelfile)[0]))\n",
    "    \n",
    "print('label 총 개수:',len(split_labelfiles))\n",
    "#split_labelfiles"
   ]
  },
  {
   "cell_type": "code",
   "execution_count": 42,
   "id": "4c3cfe62-feaa-4d30-98d2-271ea8f9dcef",
   "metadata": {
    "tags": []
   },
   "outputs": [
    {
     "name": "stdout",
     "output_type": "stream",
     "text": [
      "24101\n",
      "0\n"
     ]
    }
   ],
   "source": [
    "true_count=0\n",
    "false_count=0\n",
    "\n",
    "false_list = []\n",
    "\n",
    "for imagefile in split_imagefiles:\n",
    "    if imagefile in split_labelfiles:\n",
    "        true_count +=1\n",
    "    else:\n",
    "        false_count +=1\n",
    "        false_list.append(imagefile)\n",
    "\n",
    "print(true_count)\n",
    "print(false_count)\n",
    "\n",
    "# print(false_list)"
   ]
  },
  {
   "cell_type": "markdown",
   "id": "adb488d6-8764-4bce-83f7-9407c9cfb564",
   "metadata": {
    "tags": []
   },
   "source": [
    "## 폴더 내부의 파일명이 동일한지 확인 (모든 폴더 확인)"
   ]
  },
  {
   "cell_type": "markdown",
   "id": "58ea4c9a-c230-4023-954d-861fede2e7b4",
   "metadata": {},
   "source": [
    "### 작성자는 images 폴더 안에 폴더/.png 파일 형식이 아니라 images 폴더 안에 png 파일을 전부 옮겨는 작업을 수행했기 때문에 아래 작업은 생략함"
   ]
  },
  {
   "cell_type": "code",
   "execution_count": 47,
   "id": "a55e7c53-fa2c-4677-a4e8-ab2e15c49c1f",
   "metadata": {
    "tags": []
   },
   "outputs": [],
   "source": [
    "from tqdm import tqdm"
   ]
  },
  {
   "cell_type": "code",
   "execution_count": 54,
   "id": "7a2c1b20-7363-49fc-a39b-c3384d194f73",
   "metadata": {
    "tags": []
   },
   "outputs": [
    {
     "name": "stderr",
     "output_type": "stream",
     "text": [
      "  0%|          | 3/24101 [00:17<39:33:03,  5.91s/it]\n"
     ]
    },
    {
     "ename": "KeyboardInterrupt",
     "evalue": "",
     "output_type": "error",
     "traceback": [
      "\u001b[0;31m---------------------------------------------------------------------------\u001b[0m",
      "\u001b[0;31mKeyboardInterrupt\u001b[0m                         Traceback (most recent call last)",
      "File \u001b[0;32m<timed exec>:32\u001b[0m\n",
      "\u001b[0;31mKeyboardInterrupt\u001b[0m: "
     ]
    }
   ],
   "source": [
    "from glob import glob\n",
    "\n",
    "for folderName in ImagefolderName:\n",
    "    imagefullPath = os.path.join('/home/jupyter/myData/train/images/'+ folderName)\n",
    "    labelfullPath = os.path.join('/home/jupyter/myData/train/labels/'+ folderName)\n",
    "    #print(fullPath+'/*.png')\n",
    "    imagefiles = glob(imagefullPath+'/*.png')\n",
    "    labelfiles = glob(labelfullPath+'/*.txt')\n",
    "    imagefiles\n",
    "    # imagefiles에서 확장자 제거 + 앞에 경로 제거\n",
    "    split_imagefiles =[]\n",
    "    for imagefile in imagefiles:\n",
    "        split_imagefiles.append(os.path.basename(os.path.splitext(imagefile)[0]))\n",
    "    #split_imagefiles\n",
    "\n",
    "    # labelfiles에서 확장자 제거 + 앞에 경로 제거\n",
    "    split_labelfiles =[]\n",
    "    for labelfile in labelfiles:\n",
    "        split_labelfiles.append(os.path.basename(os.path.splitext(labelfile)[0]))\n",
    "    #split_labelfiles\n",
    "\n",
    "    true_count=0\n",
    "    false_count=0\n",
    "    for imagefile in split_imagefiles:\n",
    "        if imagefile in split_labelfiles:\n",
    "            true_count +=1\n",
    "        else:\n",
    "            false_count +=1\n",
    "    if false_count>0 or true_count==0:\n",
    "        print(\"===================\")\n",
    "        print(folderName)\n",
    "        print(true_count)\n",
    "        print(false_count)\n",
    "        print(\"===================\")"
   ]
  },
  {
   "cell_type": "markdown",
   "id": "7ef8914e-b118-4fc8-9e3c-b65d9fc144cf",
   "metadata": {},
   "source": [
    "## txt파일명이 잘못된 것 수정\n",
    "### txt파일명에 언더바 대신 공백이 있음\n",
    "### 이미지 이름은 'Suwon_CH02_20200721_2130_TUE_9m_NH_highway_TW5_sunny_FHD'\n",
    "Suwon_CH02_20200721_2130_TUE_9m_NH_highway_TW5_sunny_FHD 001.txt"
   ]
  },
  {
   "cell_type": "code",
   "execution_count": 38,
   "id": "0cbd9334-a898-415e-bc06-023036910871",
   "metadata": {
    "tags": []
   },
   "outputs": [],
   "source": [
    "# falseLabels = glob('/home/jupyter/highway/train/labels/Suwon_CH02_20200721_2130*.txt')\n",
    "# falseLabels"
   ]
  },
  {
   "cell_type": "code",
   "execution_count": 37,
   "id": "5c9179df-dd75-423c-803e-52bf21b36e00",
   "metadata": {
    "tags": []
   },
   "outputs": [
    {
     "name": "stdout",
     "output_type": "stream",
     "text": [
      "/home/jupyter/highway/train/labels/Suwon_CH02_20200721_2130_TUE_9m_NH_highway_TW5_sunny_FHD_068.txt\n",
      "/home/jupyter/highway/train/labels/Suwon_CH02_20200721_2130_TUE_9m_NH_highway_TW5_sunny_FHD_132.txt\n",
      "/home/jupyter/highway/train/labels/Suwon_CH02_20200721_2130_TUE_9m_NH_highway_TW5_sunny_FHD_113.txt\n",
      "/home/jupyter/highway/train/labels/Suwon_CH02_20200721_2130_TUE_9m_NH_highway_TW5_sunny_FHD_040.txt\n",
      "/home/jupyter/highway/train/labels/Suwon_CH02_20200721_2130_TUE_9m_NH_highway_TW5_sunny_FHD_060.txt\n",
      "/home/jupyter/highway/train/labels/Suwon_CH02_20200721_2130_TUE_9m_NH_highway_TW5_sunny_FHD_144.txt\n",
      "/home/jupyter/highway/train/labels/Suwon_CH02_20200721_2130_TUE_9m_NH_highway_TW5_sunny_FHD_016.txt\n",
      "/home/jupyter/highway/train/labels/Suwon_CH02_20200721_2130_TUE_9m_NH_highway_TW5_sunny_FHD_045.txt\n",
      "/home/jupyter/highway/train/labels/Suwon_CH02_20200721_2130_TUE_9m_NH_highway_TW5_sunny_FHD_030.txt\n",
      "/home/jupyter/highway/train/labels/Suwon_CH02_20200721_2130_TUE_9m_NH_highway_TW5_sunny_FHD_139.txt\n",
      "/home/jupyter/highway/train/labels/Suwon_CH02_20200721_2130_TUE_9m_NH_highway_TW5_sunny_FHD_118.txt\n",
      "/home/jupyter/highway/train/labels/Suwon_CH02_20200721_2130_TUE_9m_NH_highway_TW5_sunny_FHD_025.txt\n",
      "/home/jupyter/highway/train/labels/Suwon_CH02_20200721_2130_TUE_9m_NH_highway_TW5_sunny_FHD_104.txt\n",
      "/home/jupyter/highway/train/labels/Suwon_CH02_20200721_2130_TUE_9m_NH_highway_TW5_sunny_FHD_117.txt\n",
      "/home/jupyter/highway/train/labels/Suwon_CH02_20200721_2130_TUE_9m_NH_highway_TW5_sunny_FHD_130.txt\n",
      "/home/jupyter/highway/train/labels/Suwon_CH02_20200721_2130_TUE_9m_NH_highway_TW5_sunny_FHD_082.txt\n",
      "/home/jupyter/highway/train/labels/Suwon_CH02_20200721_2130_TUE_9m_NH_highway_TW5_sunny_FHD_043.txt\n",
      "/home/jupyter/highway/train/labels/Suwon_CH02_20200721_2130_TUE_9m_NH_highway_TW5_sunny_FHD_061.txt\n",
      "/home/jupyter/highway/train/labels/Suwon_CH02_20200721_2130_TUE_9m_NH_highway_TW5_sunny_FHD_090.txt\n",
      "/home/jupyter/highway/train/labels/Suwon_CH02_20200721_2130_TUE_9m_NH_highway_TW5_sunny_FHD_089.txt\n",
      "/home/jupyter/highway/train/labels/Suwon_CH02_20200721_2130_TUE_9m_NH_highway_TW5_sunny_FHD_078.txt\n",
      "/home/jupyter/highway/train/labels/Suwon_CH02_20200721_2130_TUE_9m_NH_highway_TW5_sunny_FHD_115.txt\n",
      "/home/jupyter/highway/train/labels/Suwon_CH02_20200721_2130_TUE_9m_NH_highway_TW5_sunny_FHD_149.txt\n",
      "/home/jupyter/highway/train/labels/Suwon_CH02_20200721_2130_TUE_9m_NH_highway_TW5_sunny_FHD_137.txt\n",
      "/home/jupyter/highway/train/labels/Suwon_CH02_20200721_2130_TUE_9m_NH_highway_TW5_sunny_FHD_046.txt\n",
      "/home/jupyter/highway/train/labels/Suwon_CH02_20200721_2130_TUE_9m_NH_highway_TW5_sunny_FHD_008.txt\n",
      "/home/jupyter/highway/train/labels/Suwon_CH02_20200721_2130_TUE_9m_NH_highway_TW5_sunny_FHD_039.txt\n",
      "/home/jupyter/highway/train/labels/Suwon_CH02_20200721_2130_TUE_9m_NH_highway_TW5_sunny_FHD_049.txt\n",
      "/home/jupyter/highway/train/labels/Suwon_CH02_20200721_2130_TUE_9m_NH_highway_TW5_sunny_FHD_111.txt\n",
      "/home/jupyter/highway/train/labels/Suwon_CH02_20200721_2130_TUE_9m_NH_highway_TW5_sunny_FHD_147.txt\n",
      "/home/jupyter/highway/train/labels/Suwon_CH02_20200721_2130_TUE_9m_NH_highway_TW5_sunny_FHD_018.txt\n",
      "/home/jupyter/highway/train/labels/Suwon_CH02_20200721_2130_TUE_9m_NH_highway_TW5_sunny_FHD_112.txt\n",
      "/home/jupyter/highway/train/labels/Suwon_CH02_20200721_2130_TUE_9m_NH_highway_TW5_sunny_FHD_135.txt\n",
      "/home/jupyter/highway/train/labels/Suwon_CH02_20200721_2130_TUE_9m_NH_highway_TW5_sunny_FHD_056.txt\n",
      "/home/jupyter/highway/train/labels/Suwon_CH02_20200721_2130_TUE_9m_NH_highway_TW5_sunny_FHD_020.txt\n",
      "/home/jupyter/highway/train/labels/Suwon_CH02_20200721_2130_TUE_9m_NH_highway_TW5_sunny_FHD_003.txt\n",
      "/home/jupyter/highway/train/labels/Suwon_CH02_20200721_2130_TUE_9m_NH_highway_TW5_sunny_FHD_125.txt\n",
      "/home/jupyter/highway/train/labels/Suwon_CH02_20200721_2130_TUE_9m_NH_highway_TW5_sunny_FHD_072.txt\n",
      "/home/jupyter/highway/train/labels/Suwon_CH02_20200721_2130_TUE_9m_NH_highway_TW5_sunny_FHD_075.txt\n",
      "/home/jupyter/highway/train/labels/Suwon_CH02_20200721_2130_TUE_9m_NH_highway_TW5_sunny_FHD_106.txt\n",
      "/home/jupyter/highway/train/labels/Suwon_CH02_20200721_2130_TUE_9m_NH_highway_TW5_sunny_FHD_131.txt\n",
      "/home/jupyter/highway/train/labels/Suwon_CH02_20200721_2130_TUE_9m_NH_highway_TW5_sunny_FHD_014.txt\n",
      "/home/jupyter/highway/train/labels/Suwon_CH02_20200721_2130_TUE_9m_NH_highway_TW5_sunny_FHD_119.txt\n",
      "/home/jupyter/highway/train/labels/Suwon_CH02_20200721_2130_TUE_9m_NH_highway_TW5_sunny_FHD_047.txt\n",
      "/home/jupyter/highway/train/labels/Suwon_CH02_20200721_2130_TUE_9m_NH_highway_TW5_sunny_FHD_093.txt\n",
      "/home/jupyter/highway/train/labels/Suwon_CH02_20200721_2130_TUE_9m_NH_highway_TW5_sunny_FHD_007.txt\n",
      "/home/jupyter/highway/train/labels/Suwon_CH02_20200721_2130_TUE_9m_NH_highway_TW5_sunny_FHD_114.txt\n",
      "/home/jupyter/highway/train/labels/Suwon_CH02_20200721_2130_TUE_9m_NH_highway_TW5_sunny_FHD_041.txt\n",
      "/home/jupyter/highway/train/labels/Suwon_CH02_20200721_2130_TUE_9m_NH_highway_TW5_sunny_FHD_037.txt\n",
      "/home/jupyter/highway/train/labels/Suwon_CH02_20200721_2130_TUE_9m_NH_highway_TW5_sunny_FHD_108.txt\n",
      "/home/jupyter/highway/train/labels/Suwon_CH02_20200721_2130_TUE_9m_NH_highway_TW5_sunny_FHD_042.txt\n",
      "/home/jupyter/highway/train/labels/Suwon_CH02_20200721_2130_TUE_9m_NH_highway_TW5_sunny_FHD_079.txt\n",
      "/home/jupyter/highway/train/labels/Suwon_CH02_20200721_2130_TUE_9m_NH_highway_TW5_sunny_FHD_019.txt\n",
      "/home/jupyter/highway/train/labels/Suwon_CH02_20200721_2130_TUE_9m_NH_highway_TW5_sunny_FHD_021.txt\n",
      "/home/jupyter/highway/train/labels/Suwon_CH02_20200721_2130_TUE_9m_NH_highway_TW5_sunny_FHD_101.txt\n",
      "/home/jupyter/highway/train/labels/Suwon_CH02_20200721_2130_TUE_9m_NH_highway_TW5_sunny_FHD_092.txt\n",
      "/home/jupyter/highway/train/labels/Suwon_CH02_20200721_2130_TUE_9m_NH_highway_TW5_sunny_FHD_141.txt\n",
      "/home/jupyter/highway/train/labels/Suwon_CH02_20200721_2130_TUE_9m_NH_highway_TW5_sunny_FHD_088.txt\n",
      "/home/jupyter/highway/train/labels/Suwon_CH02_20200721_2130_TUE_9m_NH_highway_TW5_sunny_FHD_035.txt\n",
      "/home/jupyter/highway/train/labels/Suwon_CH02_20200721_2130_TUE_9m_NH_highway_TW5_sunny_FHD_065.txt\n",
      "/home/jupyter/highway/train/labels/Suwon_CH02_20200721_2130_TUE_9m_NH_highway_TW5_sunny_FHD_038.txt\n",
      "/home/jupyter/highway/train/labels/Suwon_CH02_20200721_2130_TUE_9m_NH_highway_TW5_sunny_FHD_105.txt\n",
      "/home/jupyter/highway/train/labels/Suwon_CH02_20200721_2130_TUE_9m_NH_highway_TW5_sunny_FHD_128.txt\n",
      "/home/jupyter/highway/train/labels/Suwon_CH02_20200721_2130_TUE_9m_NH_highway_TW5_sunny_FHD_071.txt\n",
      "/home/jupyter/highway/train/labels/Suwon_CH02_20200721_2130_TUE_9m_NH_highway_TW5_sunny_FHD_009.txt\n",
      "/home/jupyter/highway/train/labels/Suwon_CH02_20200721_2130_TUE_9m_NH_highway_TW5_sunny_FHD_100.txt\n",
      "/home/jupyter/highway/train/labels/Suwon_CH02_20200721_2130_TUE_9m_NH_highway_TW5_sunny_FHD_032.txt\n",
      "/home/jupyter/highway/train/labels/Suwon_CH02_20200721_2130_TUE_9m_NH_highway_TW5_sunny_FHD_123.txt\n",
      "/home/jupyter/highway/train/labels/Suwon_CH02_20200721_2130_TUE_9m_NH_highway_TW5_sunny_FHD_054.txt\n",
      "/home/jupyter/highway/train/labels/Suwon_CH02_20200721_2130_TUE_9m_NH_highway_TW5_sunny_FHD_001.txt\n",
      "/home/jupyter/highway/train/labels/Suwon_CH02_20200721_2130_TUE_9m_NH_highway_TW5_sunny_FHD_143.txt\n",
      "/home/jupyter/highway/train/labels/Suwon_CH02_20200721_2130_TUE_9m_NH_highway_TW5_sunny_FHD_145.txt\n",
      "/home/jupyter/highway/train/labels/Suwon_CH02_20200721_2130_TUE_9m_NH_highway_TW5_sunny_FHD_087.txt\n",
      "/home/jupyter/highway/train/labels/Suwon_CH02_20200721_2130_TUE_9m_NH_highway_TW5_sunny_FHD_094.txt\n",
      "/home/jupyter/highway/train/labels/Suwon_CH02_20200721_2130_TUE_9m_NH_highway_TW5_sunny_FHD_027.txt\n",
      "/home/jupyter/highway/train/labels/Suwon_CH02_20200721_2130_TUE_9m_NH_highway_TW5_sunny_FHD_084.txt\n",
      "/home/jupyter/highway/train/labels/Suwon_CH02_20200721_2130_TUE_9m_NH_highway_TW5_sunny_FHD_004.txt\n",
      "/home/jupyter/highway/train/labels/Suwon_CH02_20200721_2130_TUE_9m_NH_highway_TW5_sunny_FHD_109.txt\n",
      "/home/jupyter/highway/train/labels/Suwon_CH02_20200721_2130_TUE_9m_NH_highway_TW5_sunny_FHD_028.txt\n",
      "/home/jupyter/highway/train/labels/Suwon_CH02_20200721_2130_TUE_9m_NH_highway_TW5_sunny_FHD_057.txt\n",
      "/home/jupyter/highway/train/labels/Suwon_CH02_20200721_2130_TUE_9m_NH_highway_TW5_sunny_FHD_069.txt\n",
      "/home/jupyter/highway/train/labels/Suwon_CH02_20200721_2130_TUE_9m_NH_highway_TW5_sunny_FHD_142.txt\n",
      "/home/jupyter/highway/train/labels/Suwon_CH02_20200721_2130_TUE_9m_NH_highway_TW5_sunny_FHD_050.txt\n",
      "/home/jupyter/highway/train/labels/Suwon_CH02_20200721_2130_TUE_9m_NH_highway_TW5_sunny_FHD_055.txt\n",
      "/home/jupyter/highway/train/labels/Suwon_CH02_20200721_2130_TUE_9m_NH_highway_TW5_sunny_FHD_095.txt\n",
      "/home/jupyter/highway/train/labels/Suwon_CH02_20200721_2130_TUE_9m_NH_highway_TW5_sunny_FHD_138.txt\n",
      "/home/jupyter/highway/train/labels/Suwon_CH02_20200721_2130_TUE_9m_NH_highway_TW5_sunny_FHD_053.txt\n",
      "/home/jupyter/highway/train/labels/Suwon_CH02_20200721_2130_TUE_9m_NH_highway_TW5_sunny_FHD_017.txt\n",
      "/home/jupyter/highway/train/labels/Suwon_CH02_20200721_2130_TUE_9m_NH_highway_TW5_sunny_FHD_146.txt\n",
      "/home/jupyter/highway/train/labels/Suwon_CH02_20200721_2130_TUE_9m_NH_highway_TW5_sunny_FHD_015.txt\n",
      "/home/jupyter/highway/train/labels/Suwon_CH02_20200721_2130_TUE_9m_NH_highway_TW5_sunny_FHD_120.txt\n",
      "/home/jupyter/highway/train/labels/Suwon_CH02_20200721_2130_TUE_9m_NH_highway_TW5_sunny_FHD_110.txt\n",
      "/home/jupyter/highway/train/labels/Suwon_CH02_20200721_2130_TUE_9m_NH_highway_TW5_sunny_FHD_074.txt\n",
      "/home/jupyter/highway/train/labels/Suwon_CH02_20200721_2130_TUE_9m_NH_highway_TW5_sunny_FHD_051.txt\n",
      "/home/jupyter/highway/train/labels/Suwon_CH02_20200721_2130_TUE_9m_NH_highway_TW5_sunny_FHD_062.txt\n",
      "/home/jupyter/highway/train/labels/Suwon_CH02_20200721_2130_TUE_9m_NH_highway_TW5_sunny_FHD_073.txt\n",
      "/home/jupyter/highway/train/labels/Suwon_CH02_20200721_2130_TUE_9m_NH_highway_TW5_sunny_FHD_091.txt\n",
      "/home/jupyter/highway/train/labels/Suwon_CH02_20200721_2130_TUE_9m_NH_highway_TW5_sunny_FHD_136.txt\n",
      "/home/jupyter/highway/train/labels/Suwon_CH02_20200721_2130_TUE_9m_NH_highway_TW5_sunny_FHD_083.txt\n",
      "/home/jupyter/highway/train/labels/Suwon_CH02_20200721_2130_TUE_9m_NH_highway_TW5_sunny_FHD_002.txt\n",
      "/home/jupyter/highway/train/labels/Suwon_CH02_20200721_2130_TUE_9m_NH_highway_TW5_sunny_FHD_012.txt\n",
      "/home/jupyter/highway/train/labels/Suwon_CH02_20200721_2130_TUE_9m_NH_highway_TW5_sunny_FHD_148.txt\n",
      "/home/jupyter/highway/train/labels/Suwon_CH02_20200721_2130_TUE_9m_NH_highway_TW5_sunny_FHD_034.txt\n",
      "/home/jupyter/highway/train/labels/Suwon_CH02_20200721_2130_TUE_9m_NH_highway_TW5_sunny_FHD_080.txt\n",
      "/home/jupyter/highway/train/labels/Suwon_CH02_20200721_2130_TUE_9m_NH_highway_TW5_sunny_FHD_005.txt\n",
      "/home/jupyter/highway/train/labels/Suwon_CH02_20200721_2130_TUE_9m_NH_highway_TW5_sunny_FHD_044.txt\n",
      "/home/jupyter/highway/train/labels/Suwon_CH02_20200721_2130_TUE_9m_NH_highway_TW5_sunny_FHD_059.txt\n",
      "/home/jupyter/highway/train/labels/Suwon_CH02_20200721_2130_TUE_9m_NH_highway_TW5_sunny_FHD_081.txt\n",
      "/home/jupyter/highway/train/labels/Suwon_CH02_20200721_2130_TUE_9m_NH_highway_TW5_sunny_FHD_064.txt\n",
      "/home/jupyter/highway/train/labels/Suwon_CH02_20200721_2130_TUE_9m_NH_highway_TW5_sunny_FHD_124.txt\n",
      "/home/jupyter/highway/train/labels/Suwon_CH02_20200721_2130_TUE_9m_NH_highway_TW5_sunny_FHD_026.txt\n",
      "/home/jupyter/highway/train/labels/Suwon_CH02_20200721_2130_TUE_9m_NH_highway_TW5_sunny_FHD_022.txt\n",
      "/home/jupyter/highway/train/labels/Suwon_CH02_20200721_2130_TUE_9m_NH_highway_TW5_sunny_FHD_024.txt\n",
      "/home/jupyter/highway/train/labels/Suwon_CH02_20200721_2130_TUE_9m_NH_highway_TW5_sunny_FHD_031.txt\n",
      "/home/jupyter/highway/train/labels/Suwon_CH02_20200721_2130_TUE_9m_NH_highway_TW5_sunny_FHD_133.txt\n",
      "/home/jupyter/highway/train/labels/Suwon_CH02_20200721_2130_TUE_9m_NH_highway_TW5_sunny_FHD_036.txt\n",
      "/home/jupyter/highway/train/labels/Suwon_CH02_20200721_2130_TUE_9m_NH_highway_TW5_sunny_FHD_116.txt\n",
      "/home/jupyter/highway/train/labels/Suwon_CH02_20200721_2130_TUE_9m_NH_highway_TW5_sunny_FHD_129.txt\n",
      "/home/jupyter/highway/train/labels/Suwon_CH02_20200721_2130_TUE_9m_NH_highway_TW5_sunny_FHD_099.txt\n",
      "/home/jupyter/highway/train/labels/Suwon_CH02_20200721_2130_TUE_9m_NH_highway_TW5_sunny_FHD_011.txt\n",
      "/home/jupyter/highway/train/labels/Suwon_CH02_20200721_2130_TUE_9m_NH_highway_TW5_sunny_FHD_023.txt\n",
      "/home/jupyter/highway/train/labels/Suwon_CH02_20200721_2130_TUE_9m_NH_highway_TW5_sunny_FHD_077.txt\n",
      "/home/jupyter/highway/train/labels/Suwon_CH02_20200721_2130_TUE_9m_NH_highway_TW5_sunny_FHD_122.txt\n",
      "/home/jupyter/highway/train/labels/Suwon_CH02_20200721_2130_TUE_9m_NH_highway_TW5_sunny_FHD_013.txt\n",
      "/home/jupyter/highway/train/labels/Suwon_CH02_20200721_2130_TUE_9m_NH_highway_TW5_sunny_FHD_134.txt\n",
      "/home/jupyter/highway/train/labels/Suwon_CH02_20200721_2130_TUE_9m_NH_highway_TW5_sunny_FHD_076.txt\n",
      "/home/jupyter/highway/train/labels/Suwon_CH02_20200721_2130_TUE_9m_NH_highway_TW5_sunny_FHD_067.txt\n",
      "/home/jupyter/highway/train/labels/Suwon_CH02_20200721_2130_TUE_9m_NH_highway_TW5_sunny_FHD_140.txt\n",
      "/home/jupyter/highway/train/labels/Suwon_CH02_20200721_2130_TUE_9m_NH_highway_TW5_sunny_FHD_126.txt\n",
      "/home/jupyter/highway/train/labels/Suwon_CH02_20200721_2130_TUE_9m_NH_highway_TW5_sunny_FHD_048.txt\n",
      "/home/jupyter/highway/train/labels/Suwon_CH02_20200721_2130_TUE_9m_NH_highway_TW5_sunny_FHD_063.txt\n",
      "/home/jupyter/highway/train/labels/Suwon_CH02_20200721_2130_TUE_9m_NH_highway_TW5_sunny_FHD_070.txt\n",
      "/home/jupyter/highway/train/labels/Suwon_CH02_20200721_2130_TUE_9m_NH_highway_TW5_sunny_FHD_102.txt\n",
      "/home/jupyter/highway/train/labels/Suwon_CH02_20200721_2130_TUE_9m_NH_highway_TW5_sunny_FHD_121.txt\n",
      "/home/jupyter/highway/train/labels/Suwon_CH02_20200721_2130_TUE_9m_NH_highway_TW5_sunny_FHD_103.txt\n",
      "/home/jupyter/highway/train/labels/Suwon_CH02_20200721_2130_TUE_9m_NH_highway_TW5_sunny_FHD_098.txt\n",
      "/home/jupyter/highway/train/labels/Suwon_CH02_20200721_2130_TUE_9m_NH_highway_TW5_sunny_FHD_150.txt\n",
      "/home/jupyter/highway/train/labels/Suwon_CH02_20200721_2130_TUE_9m_NH_highway_TW5_sunny_FHD_033.txt\n",
      "/home/jupyter/highway/train/labels/Suwon_CH02_20200721_2130_TUE_9m_NH_highway_TW5_sunny_FHD_010.txt\n",
      "/home/jupyter/highway/train/labels/Suwon_CH02_20200721_2130_TUE_9m_NH_highway_TW5_sunny_FHD_086.txt\n",
      "/home/jupyter/highway/train/labels/Suwon_CH02_20200721_2130_TUE_9m_NH_highway_TW5_sunny_FHD_097.txt\n",
      "/home/jupyter/highway/train/labels/Suwon_CH02_20200721_2130_TUE_9m_NH_highway_TW5_sunny_FHD_006.txt\n",
      "/home/jupyter/highway/train/labels/Suwon_CH02_20200721_2130_TUE_9m_NH_highway_TW5_sunny_FHD_052.txt\n",
      "/home/jupyter/highway/train/labels/Suwon_CH02_20200721_2130_TUE_9m_NH_highway_TW5_sunny_FHD_085.txt\n",
      "/home/jupyter/highway/train/labels/Suwon_CH02_20200721_2130_TUE_9m_NH_highway_TW5_sunny_FHD_029.txt\n",
      "/home/jupyter/highway/train/labels/Suwon_CH02_20200721_2130_TUE_9m_NH_highway_TW5_sunny_FHD_127.txt\n",
      "/home/jupyter/highway/train/labels/Suwon_CH02_20200721_2130_TUE_9m_NH_highway_TW5_sunny_FHD_058.txt\n",
      "/home/jupyter/highway/train/labels/Suwon_CH02_20200721_2130_TUE_9m_NH_highway_TW5_sunny_FHD_096.txt\n",
      "/home/jupyter/highway/train/labels/Suwon_CH02_20200721_2130_TUE_9m_NH_highway_TW5_sunny_FHD_066.txt\n",
      "/home/jupyter/highway/train/labels/Suwon_CH02_20200721_2130_TUE_9m_NH_highway_TW5_sunny_FHD_107.txt\n"
     ]
    }
   ],
   "source": [
    "falseLabels = glob('/home/jupyter/highway/train/labels/Suwon_CH02_20200721_2130*.txt')\n",
    "\n",
    "for falseLabel in falseLabels:\n",
    "    newLabel = falseLabel.replace(' ','_')\n",
    "    print(newLabel)\n",
    "    os.rename(falseLabel, newLabel)"
   ]
  },
  {
   "cell_type": "markdown",
   "id": "4a8d6633-e587-402b-81b2-41f751a5a822",
   "metadata": {
    "tags": []
   },
   "source": [
    "### 파일명 수정 후에도 train, rabel 데이터 개수 불일치 확인\n",
    "### labels 폴더에 txt파일이 3개 더 많은것을 확인한 후 결측치인지 확인하기"
   ]
  },
  {
   "cell_type": "code",
   "execution_count": 57,
   "id": "756f8619-8f5e-4672-b7a8-7f8ee698f3cf",
   "metadata": {},
   "outputs": [
    {
     "name": "stdout",
     "output_type": "stream",
     "text": [
      "iamge 총 개수: 24101\n",
      "label 총 개수: 24104\n"
     ]
    }
   ],
   "source": [
    "print('iamge 총 개수:',len(split_imagefiles))\n",
    "# split_imagefiles\n",
    "\n",
    "print('label 총 개수:',len(split_labelfiles))\n",
    "#split_labelfiles"
   ]
  },
  {
   "cell_type": "code",
   "execution_count": 64,
   "id": "808ecd92-9217-440e-b00e-23253d814e08",
   "metadata": {
    "tags": []
   },
   "outputs": [
    {
     "data": {
      "text/plain": [
       "(24101, 24104)"
      ]
     },
     "execution_count": 64,
     "metadata": {},
     "output_type": "execute_result"
    }
   ],
   "source": [
    "imagesPath_test = glob('/home/jupyter/highway/train/images/*')\n",
    "labelsPath_test = glob('/home/jupyter/highway/train/labels/*')\n",
    "len(imagesPath_test), len(labelsPath_test)\n",
    "#imagesPath_test"
   ]
  },
  {
   "cell_type": "code",
   "execution_count": 72,
   "id": "b1bd1245-1fe6-487d-a527-8d5df683f5ea",
   "metadata": {
    "tags": []
   },
   "outputs": [
    {
     "data": {
      "text/plain": [
       "'Suwon_CH03_20201213_0835_SUN_9m_NH_highway_OW5_snow_FHD_052.png'"
      ]
     },
     "execution_count": 72,
     "metadata": {},
     "output_type": "execute_result"
    }
   ],
   "source": [
    "iist_images[0]"
   ]
  },
  {
   "cell_type": "code",
   "execution_count": 74,
   "id": "7246e8ab-0c47-4c51-8a2d-7b5a8dd2fef3",
   "metadata": {
    "tags": []
   },
   "outputs": [
    {
     "name": "stdout",
     "output_type": "stream",
     "text": [
      "24101 24104\n"
     ]
    }
   ],
   "source": [
    "from glob import glob\n",
    "\n",
    "fileName = ImagefileName[0]\n",
    "imagefullPath = os.path.join('/home/jupyter/highway/train/', 'images')\n",
    "labelfullPath = os.path.join('/home/jupyter/highway/train/', 'labels')\n",
    "\n",
    "#print(fullPath+'/*.png')\n",
    "imagefiles = glob(imagefullPath+'/*')\n",
    "labelfiles = glob(labelfullPath+'/*')\n",
    "\n",
    "# imagefiles\n",
    "# labelfiles\n",
    "# imagefiles에서 확장자 제거 + 앞에 경로 제거\n",
    "split_imagefiles = []\n",
    "split_labelfiles = []\n",
    "\n",
    "# images 파일의 확장자를 제거하고 이름만 리스트에 담기\n",
    "for imagefile in imagefiles:\n",
    "    split_imagefiles.append(os.path.basename(os.path.splitext(imagefile)[0]))\n",
    "    \n",
    "# labels 하위 파일의 확장자를 제거하고 이름만 리스트에 담기\n",
    "for labelfile in labelfiles:\n",
    "    split_labelfiles.append(os.path.basename(os.path.splitext(labelfile)[0]))\n",
    "\n",
    "print(len(split_imagefiles), len(split_labelfiles))"
   ]
  },
  {
   "cell_type": "markdown",
   "id": "ef536ae2-809c-4a58-9530-0dad220acfd2",
   "metadata": {},
   "source": [
    "### labels 폴더에서 아래 3개의 파일이 images 파일에 없는것을 확인\n",
    "- Suwon_CH02_20200721_1530_TUE_9m_NH_highway_TW5_sunny_FHD_069.png\n",
    "- uwon_CH03_20200722_1900_WED_9m_NH_highway_OW5_sunny_FHD_051.png\n",
    "- Suwon_CH03_20200722_1900_WED_9m_NH_highway_OW5_sunny_FHD_052.png\n",
    "### 원본 압축파일에서 확인해본 결과 해당 파일이 없는것을 확인"
   ]
  },
  {
   "cell_type": "markdown",
   "id": "a3e1317b-47c4-4f8a-8b97-1cc580d5094a",
   "metadata": {},
   "source": [
    "### 불일치 파일 삭제하기"
   ]
  },
  {
   "cell_type": "code",
   "execution_count": 79,
   "id": "9455479f-59da-498a-9187-4e1633716b3e",
   "metadata": {
    "tags": []
   },
   "outputs": [
    {
     "name": "stdout",
     "output_type": "stream",
     "text": [
      "불일치 파일: Suwon_CH02_20200721_1530_TUE_9m_NH_highway_TW5_sunny_FHD_069\n",
      "파일 삭제 완료!!!\n",
      "불일치 파일: Suwon_CH03_20200722_1900_WED_9m_NH_highway_OW5_sunny_FHD_051\n",
      "파일 삭제 완료!!!\n",
      "불일치 파일: Suwon_CH03_20200722_1900_WED_9m_NH_highway_OW5_sunny_FHD_052\n",
      "파일 삭제 완료!!!\n",
      "true_count:24101\n",
      "false_count:3\n"
     ]
    }
   ],
   "source": [
    "true_count=0\n",
    "false_count=0\n",
    "for label in split_labelfiles:\n",
    "    if label in split_imagefiles:\n",
    "        true_count+=1\n",
    "    else:\n",
    "        false_count+=1\n",
    "        print('불일치 파일: {}'.format(label))\n",
    "        falsefilePath = os.path.join(labelfullPath,label + '.txt')\n",
    "        #print(falsefilePath)\n",
    "        #해당파일 삭제\n",
    "        os.remove(falsefilePath)\n",
    "        print('파일 삭제 완료!!!')\n",
    "        \n",
    "\n",
    "print(f'true_count:{true_count}')\n",
    "print(f'false_count:{false_count}')"
   ]
  },
  {
   "cell_type": "markdown",
   "id": "c5680001-1729-4457-bb64-b75d8bba6218",
   "metadata": {},
   "source": [
    "### 다시 파일 개수 확인하기"
   ]
  },
  {
   "cell_type": "code",
   "execution_count": 80,
   "id": "e7f97e6f-7b79-476b-aa46-156c423728ab",
   "metadata": {
    "tags": []
   },
   "outputs": [
    {
     "name": "stdout",
     "output_type": "stream",
     "text": [
      "24101 24101\n"
     ]
    }
   ],
   "source": [
    "from glob import glob\n",
    "\n",
    "fileName = ImagefileName[0]\n",
    "imagefullPath = os.path.join('/home/jupyter/highway/train/', 'images')\n",
    "labelfullPath = os.path.join('/home/jupyter/highway/train/', 'labels')\n",
    "\n",
    "#print(fullPath+'/*.png')\n",
    "imagefiles = glob(imagefullPath+'/*')\n",
    "labelfiles = glob(labelfullPath+'/*')\n",
    "\n",
    "# imagefiles\n",
    "# labelfiles\n",
    "# imagefiles에서 확장자 제거 + 앞에 경로 제거\n",
    "split_imagefiles = []\n",
    "split_labelfiles = []\n",
    "\n",
    "# images 파일의 확장자를 제거하고 이름만 리스트에 담기\n",
    "for imagefile in imagefiles:\n",
    "    split_imagefiles.append(os.path.basename(os.path.splitext(imagefile)[0]))\n",
    "    \n",
    "# labels 하위 파일의 확장자를 제거하고 이름만 리스트에 담기\n",
    "for labelfile in labelfiles:\n",
    "    split_labelfiles.append(os.path.basename(os.path.splitext(labelfile)[0]))\n",
    "\n",
    "print(len(split_imagefiles), len(split_labelfiles))"
   ]
  },
  {
   "cell_type": "code",
   "execution_count": 81,
   "id": "eb9ef0f5-43a7-4072-92fb-720cd3d70c67",
   "metadata": {
    "tags": []
   },
   "outputs": [
    {
     "name": "stdout",
     "output_type": "stream",
     "text": [
      "true_count:24101\n",
      "false_count:0\n"
     ]
    }
   ],
   "source": [
    "true_count=0\n",
    "false_count=0\n",
    "for label in split_labelfiles:\n",
    "    if label in split_imagefiles:\n",
    "        true_count+=1\n",
    "    else:\n",
    "        false_count+=1\n",
    "        print('불일치 파일: {}'.format(label))\n",
    "        falsefilePath = os.path.join(labelfullPath,label + '.txt')\n",
    "        #print(falsefilePath)\n",
    "        #해당파일 삭제\n",
    "        os.remove(falsefilePath)\n",
    "        print('파일 삭제 완료!!!')\n",
    "        \n",
    "\n",
    "print(f'true_count:{true_count}')\n",
    "print(f'false_count:{false_count}')"
   ]
  },
  {
   "cell_type": "markdown",
   "id": "92a93e61-b2ef-4a82-a999-47e5234e0596",
   "metadata": {},
   "source": [
    "## VOLO nano model test 중 train의 png 파일 하나를 읽지 못하는 메시지 발생한것 확인\n",
    "- 'Suwon_CH02_20200721_2130_TUE_9m_NH_highway_TW5_sunny_FHD_096.png'\n",
    "- highway/train/images/Suwon_CH02_20200722_1530_WED_9m_NH_highway_TW5_rainy_FHD_048.png 파일을 확인해보니 0KB인것 확인함\n",
    "- 압축 풀기 전 원본 데이터 확인해보니 해당 파일 존재함\n",
    "- 압축 푸는과정에서 손상난것으로 추정\n",
    "- 손상파일 삭제 후, 원본 압축파일에서 해당 png 파일만 추출해서 업로드하는 식으로 파일 교체함"
   ]
  },
  {
   "cell_type": "code",
   "execution_count": null,
   "id": "232e6f45-f5ac-44c8-bc1e-4a978592eacb",
   "metadata": {},
   "outputs": [],
   "source": []
  }
 ],
 "metadata": {
  "environment": {
   "kernel": "python3",
   "name": ".m113",
   "type": "gcloud",
   "uri": "gcr.io/deeplearning-platform-release/:m113"
  },
  "kernelspec": {
   "display_name": "Python 3",
   "language": "python",
   "name": "python3"
  },
  "language_info": {
   "codemirror_mode": {
    "name": "ipython",
    "version": 3
   },
   "file_extension": ".py",
   "mimetype": "text/x-python",
   "name": "python",
   "nbconvert_exporter": "python",
   "pygments_lexer": "ipython3",
   "version": "3.10.13"
  }
 },
 "nbformat": 4,
 "nbformat_minor": 5
}
