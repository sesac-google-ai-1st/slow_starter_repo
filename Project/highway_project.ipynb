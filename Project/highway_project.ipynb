{
 "cells": [
  {
   "cell_type": "markdown",
   "id": "ae3a02c7-ac96-4c8a-b2e4-757b0f4f521f",
   "metadata": {
    "tags": []
   },
   "source": [
    "## 데이터셋 준비하기\n",
    "- 버킷 생성(단일 리전) 후 버킷에 데이터셋 upload (통으로 올려도 되고, 분할압축후 올리면 중간에 업로드 실패시 다시 업로드하기 편하다.)\n",
    "- 버킷과 gcp로 실행한 jpyter notebook 연동\n",
    "  - gcsfuse 로 마운트(colab의 드라이브 마운트와 같이 실시간 연동하는 식)\n",
    "  - gsutill 로 접속하여 복사(cp) 하거나 다운로드를 통해 jpyter lab의 local로 옮겨서 사용(원본은 변화안됨, 딴사람의 버킷에 접속하여 다운가능)\n",
    "- 가져온 압축파일 압축풀기"
   ]
  },
  {
   "cell_type": "code",
   "execution_count": 71,
   "id": "3d24198c-bfdb-4587-bd11-2dab899f5ccf",
   "metadata": {
    "tags": []
   },
   "outputs": [],
   "source": [
    "# for 문 진행상황 확인이 필요할떄 사용하기 위한 기능\n",
    "from tqdm import tqdm"
   ]
  },
  {
   "cell_type": "code",
   "execution_count": 1,
   "id": "6614c642-1053-4edd-89ed-56406906d03a",
   "metadata": {
    "tags": []
   },
   "outputs": [],
   "source": [
    "# jupyter폴더 아래에 dataset폴더를 생성합니다.\n",
    "!mkdir /home/jupyter/dataset"
   ]
  },
  {
   "cell_type": "code",
   "execution_count": 2,
   "id": "6abfac7f-1c33-4059-ba97-9100fd4a5208",
   "metadata": {
    "tags": []
   },
   "outputs": [
    {
     "name": "stdout",
     "output_type": "stream",
     "text": [
      "{\"time\":\"22/11/2023 06:09:07.196727\",\"severity\":\"INFO\",\"msg\":\"Start gcsfuse/1.2.0 (Go version go1.21.0) for app \\\"\\\" using mount point: /home/jupyter/dataset\\n\"}\n"
     ]
    }
   ],
   "source": [
    "# 앞에서 생성한 dataset폴더에 bukect 마운트하기\n",
    "BUCKET_NAME = 'yolostudy'\n",
    "MOUNT_PATH ='/home/jupyter/dataset' \n",
    "!gcsfuse --implicit-dirs {BUCKET_NAME} {MOUNT_PATH}\n",
    "#!gcsfuse --implicit-dirs gne-dev-02-bucket /home/jupyter/dataset"
   ]
  },
  {
   "cell_type": "code",
   "execution_count": 3,
   "id": "4f86c293-9e3f-4299-93fe-9c8ad750f631",
   "metadata": {
    "tags": []
   },
   "outputs": [
    {
     "name": "stdout",
     "output_type": "stream",
     "text": [
      "/home/jupyter\n"
     ]
    }
   ],
   "source": [
    "import os\n",
    "HOME = os.getcwd()\n",
    "print(HOME)"
   ]
  },
  {
   "cell_type": "markdown",
   "id": "aba12e03-6b27-4d0e-8ef4-dfb73983c01c",
   "metadata": {
    "tags": []
   },
   "source": [
    "### 버킷에 있는 데이터 로컬 주피터랩으로 복사하기"
   ]
  },
  {
   "cell_type": "code",
   "execution_count": 15,
   "id": "66296455-4e2f-448a-90c1-53b17fee5f80",
   "metadata": {
    "tags": []
   },
   "outputs": [
    {
     "name": "stdout",
     "output_type": "stream",
     "text": [
      "Filesystem         1K-blocks     Used     Available Use% Mounted on\n",
      "udev                30855224        0      30855224   0% /dev\n",
      "tmpfs                6173212      448       6172764   1% /run\n",
      "/dev/sdb1          102955604 33184200      65462596  34% /\n",
      "tmpfs               30866060        0      30866060   0% /dev/shm\n",
      "tmpfs                   5120        0          5120   0% /run/lock\n",
      "/dev/sdb15            126678    10900        115778   9% /boot/efi\n",
      "/dev/sda           205314024 41653332     163644308  21% /home/jupyter\n",
      "yolostudy      1099511627776        0 1099511627776   0% /home/jupyter/dataset\n"
     ]
    }
   ],
   "source": [
    "!df"
   ]
  },
  {
   "cell_type": "markdown",
   "id": "6d0b05af-edee-4910-8abd-364fb3cc144d",
   "metadata": {
    "tags": []
   },
   "source": [
    "### rsync = 파일 복사중에 진행상황 확인가능"
   ]
  },
  {
   "cell_type": "code",
   "execution_count": 19,
   "id": "9045c5fa-0c37-454c-bee3-441574e5a8f4",
   "metadata": {
    "tags": []
   },
   "outputs": [
    {
     "name": "stdout",
     "output_type": "stream",
     "text": [
      "         53.09G 100%   42.63MB/s    0:19:47 (xfr#8319, to-chk=0/8381)   \n"
     ]
    }
   ],
   "source": [
    "## 파일 복사 진행상황 확인\n",
    "!rsync -ah --info=progress2 '/home/jupyter/dataset/교통문제 해결을 위한 CCTV 교통 영상(고속도로)/' '/home/jupyter/highway/'"
   ]
  },
  {
   "cell_type": "code",
   "execution_count": 20,
   "id": "ce3381ae-650b-41fc-836f-1627f8ec2da9",
   "metadata": {
    "tags": []
   },
   "outputs": [
    {
     "name": "stdout",
     "output_type": "stream",
     "text": [
      "Filesystem         1K-blocks     Used     Available Use% Mounted on\n",
      "udev                30855224        0      30855224   0% /dev\n",
      "tmpfs                6173212      448       6172764   1% /run\n",
      "/dev/sdb1          102955604 33184852      65461944  34% /\n",
      "tmpfs               30866060        0      30866060   0% /dev/shm\n",
      "tmpfs                   5120        0          5120   0% /run/lock\n",
      "/dev/sdb15            126678    10900        115778   9% /boot/efi\n",
      "/dev/sda           205314024 93514512     111783128  46% /home/jupyter\n",
      "yolostudy      1099511627776        0 1099511627776   0% /home/jupyter/dataset\n"
     ]
    }
   ],
   "source": [
    "!df"
   ]
  },
  {
   "cell_type": "code",
   "execution_count": 26,
   "id": "b96918a8-865b-45e5-beb1-2f37f9da4ba6",
   "metadata": {
    "tags": []
   },
   "outputs": [
    {
     "name": "stdout",
     "output_type": "stream",
     "text": [
      "/home/jupyter/~\n",
      "total 20\n",
      "drwxr-xr-x  5 jupyter jupyter 4096 Nov 22 06:45  .\n",
      "drwxr-xr-x 14 jupyter jupyter 4096 Nov 22 07:07  ..\n",
      "drwxr-xr-x  5 jupyter jupyter 4096 Nov 22 06:09  Training\n",
      "drwxr-xr-x  5 jupyter jupyter 4096 Nov 22 06:32  Validation\n",
      "drwxr-xr-x  4 jupyter jupyter 4096 Nov 22 06:09 '교통문제 해결을 위한 CCTV 교통 영상(고속도로)'\n"
     ]
    }
   ],
   "source": [
    "%cd /home/jupyter/~\n",
    "!ls -al"
   ]
  },
  {
   "cell_type": "markdown",
   "id": "c4b47d3f-72cd-47f7-a599-e6444464413f",
   "metadata": {
    "tags": []
   },
   "source": [
    "### 가져온 압축파일 압축풀기\n",
    "- 훈련용 데이터, 검증용 데이터 전부 압축풀기\n",
    "- 각각 이미지는 iamges 폴더, xml파일은 txt파일로 변환하여 labels 폴더로 저장"
   ]
  },
  {
   "cell_type": "code",
   "execution_count": 169,
   "id": "4a145f24-1ae9-43b1-8d09-f67c229a0569",
   "metadata": {
    "tags": []
   },
   "outputs": [
    {
     "name": "stdout",
     "output_type": "stream",
     "text": [
      "/home/jupyter\n",
      "CPU times: user 3.07 s, sys: 1.1 s, total: 4.17 s\n",
      "Wall time: 1min 28s\n"
     ]
    }
   ],
   "source": [
    "%%time\n",
    "%cd ~/\n",
    "\n",
    "import os\n",
    "import zipfile\n",
    "import multiprocessing\n",
    "import concurrent.futures\n",
    "\n",
    "cpu_num = os.cpu_count()  # 현재 pc의 cpu 코어 수 확인\n",
    "\n",
    "## [라벨]1.수도권영동선 - 16MB = 1.07 s\n",
    "# zipfilePath = 'highway/Training/bounding_box/[라벨]1.수도권영동선.zip'\n",
    "# savePath = 'highway/Training/bounding_box/labels_total'\n",
    "\n",
    "## [원천]1-1.수도권영동선 - 29.8GB = 56min 21s(cpu = 4) => 17min 7s(cpu = 14)\n",
    "# zipfilePath = 'highway/Training/bounding_box/[원천]1-1.수도권영동선.zip'\n",
    "# savePath = 'highway/Training/bounding_box/images_total'\n",
    "\n",
    "## [라벨]1.수도권영동선 - 2.5MB = 6.27 s(cpu = 4) => 463 ms(cpu = 14)\n",
    "# zipfilePath = 'highway/Validation/bounding_box/[라벨]1.수도권영동선.zip'\n",
    "# savePath = 'highway/Validation/bounding_box/labels_total'\n",
    "\n",
    "## [원천]1.수도권영동선 - 9GB =  18min 31s(cpu = 4) => 3min 31s(cpu = 14) \n",
    "## - 폴더 이름 깨짐 이슈때문에 jupyter local로 압축파일 복사하여 압축풀기 후 mv로 폴더이름 변경 진행함\n",
    "# zipfilePath = 'highway/val/[원천]1.수도권영동선.zip'\n",
    "# savePath = 'highway/val/images_total'\n",
    "\n",
    "def unzip(file):\n",
    "    with lock:\n",
    "        zf.extract(file, path=savePath)\n",
    "\n",
    "zf = zipfile.ZipFile(zipfilePath)    \n",
    "\n",
    "m = multiprocessing.Manager()\n",
    "lock = m.Lock()  # 여러개의 폴더의 압축을 풀떄 하나의 폴더의 압축을 다 풀때까지 다른작업 중지하기\n",
    "\n",
    "with concurrent.futures.ProcessPoolExecutor(max_workers=cpu_num-2) as executor:\n",
    "    executor.map(unzip, zf.infolist())  # map = 여러개의 기능을 동시에 실행"
   ]
  },
  {
   "cell_type": "markdown",
   "id": "9291dd86-2273-4311-9f63-142c46b10eef",
   "metadata": {},
   "source": [
    "================================="
   ]
  },
  {
   "cell_type": "markdown",
   "id": "ddc91962-5fa7-487a-84ad-c3f543decd1a",
   "metadata": {
    "tags": []
   },
   "source": [
    "## 다운받은 데이터셋의 데이터를 전처리하기\n",
    "- 폴더 내부의 파일 이름 목록 뽑아내기\n",
    "- train/images 폴더를 생성하여 png 파일 전부 몰아넣기\n",
    "- train/labels 폴더 생성 후 xml 파일을 txt파일로 변환한 데이터 전부 몰아넣기\n",
    "- test, val 파일 모두 같은방식으로 변경"
   ]
  },
  {
   "cell_type": "code",
   "execution_count": 40,
   "id": "d1ed10b1-05d3-4231-8373-aa3506258647",
   "metadata": {
    "tags": []
   },
   "outputs": [
    {
     "name": "stdout",
     "output_type": "stream",
     "text": [
      "/home/jupyter\n"
     ]
    }
   ],
   "source": [
    "!pwd"
   ]
  },
  {
   "cell_type": "code",
   "execution_count": 129,
   "id": "a8e88e1c-c522-416c-a813-aa174b80a9aa",
   "metadata": {
    "tags": []
   },
   "outputs": [],
   "source": [
    "# 가끔 아래의 에러가 발생할 경우 다음 코드를 실행한다.\n",
    "# 로케일 에러\n",
    "# NotImplementedError: A UTF-8 locale is required. Got ANSI_X3.4-1968\n",
    "\n",
    "import locale\n",
    "locale.getpreferredencoding = lambda: \"UTF-8\""
   ]
  },
  {
   "cell_type": "code",
   "execution_count": 42,
   "id": "6779561a-c855-4fa1-96bf-485c1bef96f6",
   "metadata": {
    "tags": []
   },
   "outputs": [],
   "source": [
    "## png 파일과 변환시킨 txt 파일을 몰아서 담기위해 labels 폴더와 images 폴더 생성\n",
    "!mkdir highway/train/images highway/train/highway/train/labels highway/val/images highway/val/labels"
   ]
  },
  {
   "cell_type": "markdown",
   "id": "9517d879-d1f8-4f9d-b403-cad53ecee197",
   "metadata": {
    "tags": []
   },
   "source": [
    "## 아래꺼 는 단순 확인용 코드 -> 실행 전에 경로 수정필요!"
   ]
  },
  {
   "cell_type": "markdown",
   "id": "46116883-03ab-4e6c-9c5e-c48dfd1f2aeb",
   "metadata": {
    "jp-MarkdownHeadingCollapsed": true,
    "tags": []
   },
   "source": [
    "### train : iamges 데이터 파일명 골라내기 "
   ]
  },
  {
   "cell_type": "code",
   "execution_count": 82,
   "id": "63df9447-2c48-4e88-945f-f6c190699544",
   "metadata": {
    "tags": []
   },
   "outputs": [
    {
     "name": "stdout",
     "output_type": "stream",
     "text": [
      "경로가 포함된 리스트 수: 24270\n",
      "경로가 미포함된 리스트 수: 24270\n"
     ]
    }
   ],
   "source": [
    "# Trainging의 하위폴더에서 iamges_total 파일목록을 리스트로 만들기\n",
    "import glob\n",
    "trainPath = HOME + \"/highway/Training/bounding_box/images_total\"\n",
    "train_iamage_file_list = glob.glob(trainPath + '/**', recursive=True)\n",
    "\n",
    "print(\"경로가 포함된 리스트 수:\",len(train_iamage_file_list))\n",
    "\n",
    "# 경로명을 제외한 이름만 따로 뽑아 리스트에 다시 저장\n",
    "train_iamage_file_name = [os.path.basename(x) for x  in train_iamage_file_list]  # bassename = 해당 경로를 생략하고 최종 파일 명만 출력\n",
    "print(\"경로가 미포함된 리스트 수:\",len(train_iamage_file_name))"
   ]
  },
  {
   "cell_type": "code",
   "execution_count": 83,
   "id": "e851fa6f-1eb8-4041-8a68-0a6cb0890948",
   "metadata": {
    "tags": []
   },
   "outputs": [
    {
     "name": "stdout",
     "output_type": "stream",
     "text": [
      "폴더를 제외한 실제 파일 개수: 23951\n"
     ]
    }
   ],
   "source": [
    "## trian_file_name 리스트에서 png 파일인 것만 초기화된 trian_file_list 리스트에 저장\n",
    "\n",
    "train_iamage_file_list = []  # trian_file_list 리스트 초기화\n",
    "for filename in train_iamage_file_name:\n",
    "    if os.path.splitext(filename)[1] == '.png':\n",
    "        train_iamage_file_list.append(filename)\n",
    "        \n",
    "print('폴더를 제외한 실제 파일 개수:', len(train_iamage_file_list))"
   ]
  },
  {
   "cell_type": "code",
   "execution_count": 84,
   "id": "73097dee-226e-4a36-a748-5bc939106654",
   "metadata": {
    "tags": []
   },
   "outputs": [
    {
     "name": "stdout",
     "output_type": "stream",
     "text": [
      "319\n"
     ]
    }
   ],
   "source": [
    "# 제외된 폴더 개수 확인 \n",
    "print(len(train_iamage_file_name) - len(train_iamage_file_list))"
   ]
  },
  {
   "cell_type": "markdown",
   "id": "8d6a958a-f6a1-4033-b5a8-76b42a51e3e0",
   "metadata": {
    "jp-MarkdownHeadingCollapsed": true,
    "tags": []
   },
   "source": [
    "### train : labels 데이터 파일명 골라내기"
   ]
  },
  {
   "cell_type": "code",
   "execution_count": 65,
   "id": "1535bb94-abb3-4310-8a2d-06cfb783c210",
   "metadata": {
    "tags": []
   },
   "outputs": [
    {
     "name": "stdout",
     "output_type": "stream",
     "text": [
      "경로가 포함된 리스트 수: 406\n",
      "경로가 미포함된 리스트 수: 406\n"
     ]
    }
   ],
   "source": [
    "# Trainging의 하위폴더에서 labels_total 파일목록을 리스트로 만들기\n",
    "import glob\n",
    "trainPath = HOME + \"/highway/Training/bounding_box/labels_total\"\n",
    "train_label_file_list = glob.glob(trainPath + '/**', recursive=True)\n",
    "\n",
    "print(\"경로가 포함된 리스트 수:\",len(train_label_file_list))\n",
    "\n",
    "# 경로명을 제외한 이름만 따로 뽑아 리스트에 다시 저장\n",
    "train_label_file_name = [os.path.basename(x) for x  in train_label_file_list]  # bassename = 해당 경로를 생략하고 최종 파일 명만 출력\n",
    "print(\"경로가 미포함된 리스트 수:\",len(train_label_file_name))\n",
    "\n",
    "## train_label_file_name 리스트의 파일목록은 xml 파일 형식임"
   ]
  },
  {
   "cell_type": "code",
   "execution_count": 67,
   "id": "e76f6797-a4ab-4a10-b7c2-22ee5444b670",
   "metadata": {
    "tags": []
   },
   "outputs": [
    {
     "name": "stdout",
     "output_type": "stream",
     "text": [
      "폴더를 제외한 실제 파일 개수: 405\n"
     ]
    }
   ],
   "source": [
    "## train_label_file_name 리스트에서 xml 파일인 것만 초기화된 train_label_file_list 리스트에 저장\n",
    "\n",
    "train_label_file_list = []  # train_label_file_list 리스트 초기화\n",
    "for filename in train_label_file_name:\n",
    "    if os.path.splitext(filename)[1] == '.xml':\n",
    "        train_label_file_list.append(filename)\n",
    "        \n",
    "print('폴더를 제외한 실제 파일 개수:', len(train_label_file_list))"
   ]
  },
  {
   "cell_type": "code",
   "execution_count": 86,
   "id": "9234b8bb-f809-4b54-aa14-d59a61c92aae",
   "metadata": {
    "tags": []
   },
   "outputs": [
    {
     "name": "stdout",
     "output_type": "stream",
     "text": [
      "1\n"
     ]
    }
   ],
   "source": [
    "# 제외된 폴더 개수 확인 \n",
    "print(len(train_label_file_name) - len(train_label_file_list))"
   ]
  },
  {
   "cell_type": "markdown",
   "id": "52c5d71e-eccf-4279-a47f-b3dcd3e88431",
   "metadata": {
    "jp-MarkdownHeadingCollapsed": true,
    "tags": []
   },
   "source": [
    "### validation : iamges 데이터 파일명 골라내기"
   ]
  },
  {
   "cell_type": "code",
   "execution_count": 79,
   "id": "c1e32ef2-bff6-4bfe-9ae8-f6cc141f6cb7",
   "metadata": {
    "tags": []
   },
   "outputs": [
    {
     "name": "stdout",
     "output_type": "stream",
     "text": [
      "경로가 포함된 리스트 수: 8315\n",
      "경로가 미포함된 리스트 수: 8315\n"
     ]
    }
   ],
   "source": [
    "# validation의 하위폴더에서 iamges_total 파일목록을 리스트로 만들기\n",
    "import glob\n",
    "valPath = HOME + \"/highway/Validation/bounding_box/images_total\"\n",
    "val_iamage_file_list = glob.glob(valPath + '/**', recursive=True)\n",
    "\n",
    "print(\"경로가 포함된 리스트 수:\",len(val_iamage_file_list))\n",
    "\n",
    "# 경로명을 제외한 이름만 따로 뽑아 리스트에 다시 저장\n",
    "val_iamage_file_name = [os.path.basename(x) for x  in val_iamage_file_list]  # bassename = 해당 경로를 생략하고 최종 파일 명만 출력\n",
    "print(\"경로가 미포함된 리스트 수:\",len(val_iamage_file_name))"
   ]
  },
  {
   "cell_type": "code",
   "execution_count": 80,
   "id": "6af21029-d40f-4429-8d0f-b06d9e94bf30",
   "metadata": {
    "tags": []
   },
   "outputs": [
    {
     "name": "stdout",
     "output_type": "stream",
     "text": [
      "폴더를 제외한 실제 파일 개수: 8112\n"
     ]
    }
   ],
   "source": [
    "## val_iamage_file_name 리스트에서 png 파일인 것만 초기화된 val_iamage_file_list 리스트에 저장\n",
    "\n",
    "val_iamage_file_list = []  # val_iamage_file_list 리스트 초기화\n",
    "for filename in val_iamage_file_name:\n",
    "    if os.path.splitext(filename)[1] == '.png':\n",
    "        val_iamage_file_list.append(filename)\n",
    "        \n",
    "print('폴더를 제외한 실제 파일 개수:', len(val_iamage_file_list))"
   ]
  },
  {
   "cell_type": "code",
   "execution_count": 85,
   "id": "b7e29be7-1b71-43c7-b1e6-ba9c5d854cbb",
   "metadata": {
    "tags": []
   },
   "outputs": [
    {
     "name": "stdout",
     "output_type": "stream",
     "text": [
      "203\n"
     ]
    }
   ],
   "source": [
    "# 제외된 폴더 개수 확인 \n",
    "print(len(val_iamage_file_name) - len(val_iamage_file_list))"
   ]
  },
  {
   "cell_type": "markdown",
   "id": "3dd0c905-cd51-4a94-87c9-66d88393d995",
   "metadata": {
    "jp-MarkdownHeadingCollapsed": true,
    "tags": []
   },
   "source": [
    "### validation : labels 데이터 파일명 골라내기"
   ]
  },
  {
   "cell_type": "code",
   "execution_count": 87,
   "id": "0c62f766-6374-49db-aaa3-a9f5af2c0034",
   "metadata": {
    "tags": []
   },
   "outputs": [
    {
     "name": "stdout",
     "output_type": "stream",
     "text": [
      "경로가 포함된 리스트 수: 52\n",
      "경로가 미포함된 리스트 수: 52\n"
     ]
    }
   ],
   "source": [
    "# validation의 하위폴더에서 labels_total 파일목록을 리스트로 만들기\n",
    "import glob\n",
    "valPath = HOME + \"/highway/Validation/bounding_box/labels_total\"\n",
    "val_label_file_list = glob.glob(valPath + '/**', recursive=True)\n",
    "\n",
    "print(\"경로가 포함된 리스트 수:\",len(val_label_file_list))\n",
    "\n",
    "# 경로명을 제외한 이름만 따로 뽑아 리스트에 다시 저장\n",
    "val_label_file_name = [os.path.basename(x) for x  in val_label_file_list]  # bassename = 해당 경로를 생략하고 최종 파일 명만 출력\n",
    "print(\"경로가 미포함된 리스트 수:\",len(val_label_file_name))"
   ]
  },
  {
   "cell_type": "code",
   "execution_count": 88,
   "id": "438146aa-1c77-4031-b5e8-efa0037f5412",
   "metadata": {
    "tags": []
   },
   "outputs": [
    {
     "name": "stdout",
     "output_type": "stream",
     "text": [
      "폴더를 제외한 실제 파일 개수: 51\n"
     ]
    }
   ],
   "source": [
    "## val_label_file_name 리스트에서 xml 파일인 것만 초기화된 val_label_file_list 리스트에 저장\n",
    "\n",
    "val_label_file_list = []  # train_label_file_list 리스트 초기화\n",
    "for filename in val_label_file_name:\n",
    "    if os.path.splitext(filename)[1] == '.xml':\n",
    "        val_label_file_list.append(filename)\n",
    "        \n",
    "print('폴더를 제외한 실제 파일 개수:', len(val_label_file_list))"
   ]
  },
  {
   "cell_type": "code",
   "execution_count": 89,
   "id": "b4f94c8d-ca1e-44e8-810a-df77240721d2",
   "metadata": {
    "tags": []
   },
   "outputs": [
    {
     "name": "stdout",
     "output_type": "stream",
     "text": [
      "1\n"
     ]
    }
   ],
   "source": [
    "# 제외된 폴더 개수 확인 \n",
    "print(len(val_label_file_name) - len(val_label_file_list))"
   ]
  },
  {
   "cell_type": "markdown",
   "id": "1111f094-29cc-4198-afbd-af0d73eb4600",
   "metadata": {
    "tags": []
   },
   "source": [
    "### train/validation 데이터의 png 파일 개수와 xml 파일 개수 출력"
   ]
  },
  {
   "cell_type": "code",
   "execution_count": 244,
   "id": "e0a636d2-ee01-42af-8088-9ec69633bdf5",
   "metadata": {
    "tags": []
   },
   "outputs": [
    {
     "name": "stdout",
     "output_type": "stream",
     "text": [
      "train 데이터의 파일 개수: 23951\n",
      "train 데이터의 파일 개수: 405\n",
      "validation 데이터의 파일 개수: 8112\n",
      "validation 데이터의 파일 개수: 51\n"
     ]
    }
   ],
   "source": [
    "print(\"train 데이터의 파일 개수:\", len(train_iamage_file_list))\n",
    "print(\"train 데이터의 파일 개수:\", len(train_label_file_list))\n",
    "print(\"validation 데이터의 파일 개수:\", len(val_iamage_file_list))\n",
    "print(\"validation 데이터의 파일 개수:\", len(val_label_file_list))"
   ]
  },
  {
   "cell_type": "code",
   "execution_count": null,
   "id": "79fc9512-2ca0-45c4-9aaa-07444f784083",
   "metadata": {},
   "outputs": [],
   "source": []
  },
  {
   "cell_type": "markdown",
   "id": "c4dc35bb-7edf-4264-bf82-e315d78200b3",
   "metadata": {},
   "source": [
    "## train/images 폴더를 생성하여 png 파일 전부 몰아넣기"
   ]
  },
  {
   "cell_type": "code",
   "execution_count": 115,
   "id": "686b0a2f-6084-40da-99e8-c51e8fbdf39e",
   "metadata": {
    "tags": []
   },
   "outputs": [
    {
     "name": "stdout",
     "output_type": "stream",
     "text": [
      "/home/jupyter\n"
     ]
    }
   ],
   "source": [
    "!pwd"
   ]
  },
  {
   "cell_type": "code",
   "execution_count": 116,
   "id": "ea2727bc-a3fb-4a10-98d6-fa3b2762339a",
   "metadata": {
    "tags": []
   },
   "outputs": [],
   "source": [
    "# 폴더위치와 폴더 이름 yolo 규격에 맞는지 확인 후 위치 수정\n",
    "# !mv highway/train/bounding_box/images highway/train/\n",
    "# !mv highway/train/bounding_box/labels highway/train/"
   ]
  },
  {
   "cell_type": "code",
   "execution_count": 143,
   "id": "788ab018-160d-4ee5-9a99-2bbe7ff2515d",
   "metadata": {
    "tags": []
   },
   "outputs": [],
   "source": [
    "# !mv '/home/jupyter/highway/train/bounding_box/labels_total' '/home/jupyter/highway/train/labels_total'\n",
    "# !mv '/home/jupyter/highway/train/bounding_box/images_total' '/home/jupyter/highway/train/images_total'\n",
    "# !mv '/home/jupyter/highway/train/bounding_box/images' '/home/jupyter/highway/train/images'\n",
    "# !mv '/home/jupyter/highway/train/bounding_box/labels' '/home/jupyter/highway/train/labels'\n",
    "# !mv '/home/jupyter/highway/train/bounding_box/[라벨]1.수도권영동선.zip' '/home/jupyter/highway/train/[라벨]1.수도권영동선.zip'\n",
    "# !mv '/home/jupyter/highway/train/bounding_box/[원천]1-1.수도권영동선.zip' '/home/jupyter/highway/train/[원천]1-1.수도권영동선.zip'\n",
    "# !rm -rf /home/jupyter/highway/highway/train/bounding_box\n",
    "\n",
    "# !mv '/home/jupyter/highway/val/bounding_box/labels_total' '/home/jupyter/highway/val/labels_total'\n",
    "# !mv '/home/jupyter/highway/val/bounding_box/images_total' '/home/jupyter/highway/val/images_total'\n",
    "# !mv '/home/jupyter/highway/val/bounding_box/images' '/home/jupyter/highway/val/images'\n",
    "# !mv '/home/jupyter/highway/val/bounding_box/labels' '/home/jupyter/highway/val/labels'\n",
    "# !mv '/home/jupyter/highway/val/bounding_box/[라벨]1.수도권영동선.zip' '/home/jupyter/highway/val/[라벨]1.수도권영동선.zip'\n",
    "# !mv '/home/jupyter/highway/val/bounding_box/[원천]1.수도권영동선.zip' '/home/jupyter/highway/val/[원천]1.수도권영동선.zip'\n",
    "# !rm -rf /home/jupyter/highway/val/bounding_box"
   ]
  },
  {
   "cell_type": "code",
   "execution_count": 144,
   "id": "b40964c9-891d-4d81-8350-f5d7f4dc0b49",
   "metadata": {
    "tags": []
   },
   "outputs": [],
   "source": [
    "dataPath = '/home/jupyter'"
   ]
  },
  {
   "cell_type": "code",
   "execution_count": 229,
   "id": "e4cd8dcc-d2c2-41a0-931b-cfd1a0ea2823",
   "metadata": {
    "tags": []
   },
   "outputs": [
    {
     "data": {
      "text/plain": [
       "(168, 168)"
      ]
     },
     "execution_count": 229,
     "metadata": {},
     "output_type": "execute_result"
    }
   ],
   "source": [
    "# train 개수 확인\n",
    "a = glob.glob(dataPath+\"/highway/train/images_total/*\")\n",
    "b = glob.glob(dataPath+\"/highway/train/labels_total/*\")\n",
    "len(a), len(b)"
   ]
  },
  {
   "cell_type": "code",
   "execution_count": 154,
   "id": "7938b99e-bba9-45d2-9491-58c7ab936f38",
   "metadata": {
    "tags": []
   },
   "outputs": [
    {
     "data": {
      "text/plain": [
       "(51, 51)"
      ]
     },
     "execution_count": 154,
     "metadata": {},
     "output_type": "execute_result"
    }
   ],
   "source": [
    "# valid 개수 확인\n",
    "a = glob.glob(dataPath+\"/highway/val/images_total/*\")\n",
    "b = glob.glob(dataPath+\"/highway/val/labels_total/*\")\n",
    "len(a), len(b)"
   ]
  },
  {
   "cell_type": "code",
   "execution_count": 168,
   "id": "b6dfc09b-2842-4740-9411-6cb35722d743",
   "metadata": {
    "tags": []
   },
   "outputs": [],
   "source": []
  },
  {
   "cell_type": "markdown",
   "id": "c8a4bc0c-a99c-4e31-8a14-0323076814ff",
   "metadata": {},
   "source": [
    "## images_total 폴더 하위에 각 폴더명에 접근하여 내부 사진 파일들을 iamges 폴더에 몰아넣기"
   ]
  },
  {
   "cell_type": "code",
   "execution_count": 245,
   "id": "04937468-bfcf-4835-80f9-4b79c484e9ef",
   "metadata": {
    "tags": []
   },
   "outputs": [],
   "source": [
    "## 테스트 망했을 때 데이터 원복용 코드...\n",
    "# !rm -rf highway/val/images_total\n",
    "# !rm -rf highway/val/images\n",
    "# !mkdir highway/val/images\n",
    "# !mkdir highway/val/images_total"
   ]
  },
  {
   "cell_type": "code",
   "execution_count": 225,
   "id": "3392c2a9-ff95-49c3-9549-a827bfbfe56e",
   "metadata": {
    "tags": []
   },
   "outputs": [],
   "source": [
    "# images_total 하위의 폴더명 리스트를 전달받은 후,\n",
    "# 해당 폴더 아래에 접근하여 폴더 내에 존재하는 이미지 파일들을 목적지(dstDir)로 옮기는 함수 선언\n",
    "# 전달받을 parameter:\n",
    "##  baseDir: /highway/val/images_total/폴더명\n",
    "##  srcFiles: images_total/폴더/ 아래에 있는 이미지 파일들의 리스트\n",
    "##  dstDir: 데이터를 이동시킬 최종 목적지 highway/val/images\n",
    "\n",
    "def move_files(baseDir, srcFiles, dstDir):\n",
    "    for srcFile in srcFiles:\n",
    "        srcFilePath = os.path.join(baseDir, srcFile)  # 각각의 이미지데이터(png,jpg)의 전체 경로 저장\n",
    "        #print(srcFilePath)\n",
    "        #print(srcFilePath, dstDir)\n",
    "        shutil.move(srcFilePath, dstDir) # 경로가 저장된 각각의 이미지파일을 롬기는 명령 실행"
   ]
  },
  {
   "cell_type": "code",
   "execution_count": 260,
   "id": "c85f3983-fd98-4eae-91e9-d16b711872c0",
   "metadata": {
    "tags": []
   },
   "outputs": [
    {
     "name": "stdout",
     "output_type": "stream",
     "text": [
      "dir:Suwon_CH02_20200720_2130_MON_9m_NH_highway_TW5_sunny_FHD, fileNum:150\n",
      "dir:Suwon_CH04_20201012_1838_MON_9m_RH_highway_OW5_sunny_FHD, fileNum:150\n",
      "dir:Suwon_CH04_20200721_1830_TUE_9m_RH_highway_OW5_sunny_FHD, fileNum:150\n",
      "dir:Suwon_CH01_20201012_1723_MON_9m_RH_highway_TW5_sunny_FHD, fileNum:150\n",
      "dir:Suwon_CH03_20201012_1933_MON_9m_RH_highway_OW5_sunny_FHD, fileNum:149\n",
      "dir:Suwon_CH02_20200722_1730_WED_9m_NH_highway_TW5_sunny_FHD, fileNum:50\n",
      "dir:Suwon_CH01_20200721_1700_TUE_9m_RH_highway_TW5_sunny_FHD, fileNum:150\n",
      "dir:Suwon_CH04_20200720_1830_MON_9m_NH_highway_OW5_sunny_FHD, fileNum:150\n",
      "dir:Suwon_CH04_20201010_1818_SAT_9m_RH_highway_OW5_sunny_FHD, fileNum:150\n",
      "dir:Suwon_CH02_20200721_2030_TUE_9m_NH_highway_TW5_sunny_FHD, fileNum:100\n",
      "dir:Suwon_CH03_20201011_1742_SUN_9m_RH_highway_OW5_sunny_FHD, fileNum:150\n",
      "dir:Suwon_CH04_20200722_1600_WED_9m_NH_highway_OW5_rainy_FHD, fileNum:625\n",
      "dir:Suwon_CH03_20200721_2000_TUE_9m_NH_highway_OW5_sunny_FHD, fileNum:100\n",
      "dir:Suwon_CH03_20200722_1700_WED_9m_NH_highway_OW5_sunny_FHD, fileNum:100\n",
      "dir:Suwon_CH01_20200722_1930_WED_9m_NH_highway_TW5_sunny_FHD, fileNum:50\n",
      "dir:Suwon_CH03_20200720_2030_MON_9m_NH_highway_OW5_sunny_FHD, fileNum:150\n",
      "dir:Suwon_CH01_20200722_1430_WED_9m_NH_highway_TW5_rainy_FHD, fileNum:50\n",
      "dir:Suwon_CH02_20201011_1806_SUN_9m_RH_highway_TW5_sunny_FHD, fileNum:150\n",
      "dir:Suwon_CH01_20200720_1830_MON_9m_RH_highway_TW5_sunny_FHD, fileNum:150\n",
      "dir:Suwon_CH01_20201213_1200_SUN_9m_NH_highway_TW5_snow_FHD, fileNum:230\n",
      "dir:Suwon_CH02_20201213_0933_SUN_9m_NH_highway_TW5_snow_FHD, fileNum:230\n",
      "fileNumCounter:3334\n",
      "CPU times: user 50.2 ms, sys: 66.5 ms, total: 117 ms\n",
      "Wall time: 141 ms\n"
     ]
    }
   ],
   "source": [
    "%%time\n",
    "## image파일만 옮기기 실행, label 데이터는 xml파일을 txt파일로 변환하면서 저장 예정\n",
    "## images_total 아래에 있는 각각의 폴더에 있는 png 파일을 전부 추출해 iamges폴더로 옮기기\n",
    "\n",
    "## 초기 경로 지정\n",
    "\n",
    "# val/iamges_total 데이터 옮기기 = 총 3333개\n",
    "# srcBaseDir = os.path.join(dataPath, \"highway/val/images_total\")\n",
    "# destPath = os.path.join(dataPath,\"highway/val/images\")\n",
    "\n",
    "# tarin/images_total 데이터 옮기기 = 총 24102개\n",
    "# srcBaseDir = os.path.join(dataPath, \"highway/train/images_total\")\n",
    "# destPath = os.path.join(dataPath,\"highway/train/images\")\n",
    "\n",
    "\n",
    "## =========== txt_total에 있는 txt 파일을 옮기기 전에 xnkTotxt 변환작업을 먼저 수행해야 함 ============ ##\n",
    "## =========== 레이블xml2txt변환하기.ipynb 파일 참조 ============ ##\n",
    "\n",
    "# val/txt_total 데이터 옮기기 = 총 3334 개\n",
    "# srcBaseDir = os.path.join(dataPath, \"highway/val/txt_total\")\n",
    "# destPath = os.path.join(dataPath,\"highway/val/labels\")\n",
    "\n",
    "# train/txt_total 데이터 옮기기 = 총 24104개\n",
    "#srcBaseDir = os.path.join(dataPath, \"highway/train/txt_total\")\n",
    "#destPath = os.path.join(dataPath,\"highway/train/labels\")\n",
    "\n",
    "\n",
    "\n",
    "# images_total 하위의 디렉토리 목록을 리스트 데이터로 생성\n",
    "dirNames = os.listdir(srcBaseDir)\n",
    "\n",
    "# 총 이동시킨 file의 개수를 확인하기 위해 사용\n",
    "fileNumCounter=0\n",
    "\n",
    "# images_total 하위의 디렉토리 목록 리스트를 하나씩 꺼내어 반복문 실행\n",
    "for dirName in dirNames:\n",
    "    srcBasePath = os.path.join(srcBaseDir,dirName)  # images_total/dirname경로 저장\n",
    "    fileNames = os.listdir(srcBasePath)  # images_total/dirname경로 를 사용하여 images_total/dirname 폴더 내부의 이미지 파일목록을 리스트로 저장\n",
    "    print(\"dir:{}, fileNum:{}\".format(dirName, len(fileNames)))  # 폴더 이름과 각 폴더별 내부 이미지 데이터 개수 확인을 위해 출력\n",
    "    fileNumCounter+=len(fileNames)  # 각 폴더의 내부 데이터 개수를 합산하기 위해 저장\n",
    "    \n",
    "    # 각 폴더명에 접근하여 내부 데이터를 옮기는 함수 호출\n",
    "    move_files(srcBasePath, fileNames, destPath)\n",
    "    #print(fileNames)\n",
    "\n",
    "# 총 옮겨진 파일 개수 확인\n",
    "print(\"fileNumCounter:{}\".format(fileNumCounter))"
   ]
  },
  {
   "cell_type": "code",
   "execution_count": 261,
   "id": "1ee33736-231d-490f-9bcf-aa124d981ff8",
   "metadata": {
    "tags": []
   },
   "outputs": [
    {
     "data": {
      "text/plain": [
       "(3334, 3333)"
      ]
     },
     "execution_count": 261,
     "metadata": {},
     "output_type": "execute_result"
    }
   ],
   "source": [
    "# 옮겨진 train/images 데이터와 val/images 데이터 개수 확인\n",
    "len(os.listdir(destPath)), len(os.listdir('/home/jupyter/highway/val/images'))"
   ]
  },
  {
   "cell_type": "markdown",
   "id": "8d2e1e91-fc94-49f5-90dc-5ca39427e93e",
   "metadata": {
    "tags": []
   },
   "source": [
    "### 파일을 옮긴 후 빈 폴더 images_total, txt_total를 삭제"
   ]
  },
  {
   "cell_type": "code",
   "execution_count": 264,
   "id": "a8b0bb9a-a06f-48b0-8030-9a2de7ca2b2b",
   "metadata": {
    "tags": []
   },
   "outputs": [],
   "source": [
    "# !rm -rf /home/jupyter/highway/train/images_total /home/jupyter/highway/val/images_total\n",
    "# !rm -rf /home/jupyter/highway/train/txt_total /home/jupyter/highway/val/txt_total"
   ]
  },
  {
   "cell_type": "code",
   "execution_count": 266,
   "id": "b1688fcc-479e-4193-b879-e2fc4777f98f",
   "metadata": {
    "tags": []
   },
   "outputs": [
    {
     "name": "stdout",
     "output_type": "stream",
     "text": [
      "train 데이터 개수: image:24101, labels:24104\n",
      "val 데이터 개수: image:3333, labels:3334\n"
     ]
    }
   ],
   "source": [
    "# train 데이터와 valid 데이터의 images, laebels 데이터 개수가 같은지 확인\n",
    "# 현재 다르게 나옴\n",
    "\n",
    "import glob\n",
    "a = len(glob.glob(dataPath+\"/highway/train/images/*\"))\n",
    "b = len(glob.glob(dataPath+\"/highway/train/labels/*\"))\n",
    "c = len(glob.glob(dataPath+\"/highway/val/images/*\"))\n",
    "d = len(glob.glob(dataPath+\"/highway/val/labels/*\"))\n",
    "print('train 데이터 개수: image:{}, labels:{}'.format(a, b))\n",
    "print('val 데이터 개수: image:{}, labels:{}'.format(c, d))"
   ]
  },
  {
   "cell_type": "markdown",
   "id": "b49d3c03-f02c-4e75-98a7-ef79edcf2fdc",
   "metadata": {},
   "source": [
    "## GPT가 알려준 코드? -> 위의 move_folder 함수 사용으로 대체함"
   ]
  },
  {
   "cell_type": "code",
   "execution_count": 158,
   "id": "eb682de6-98b7-4d85-84de-936aae3bd420",
   "metadata": {
    "tags": []
   },
   "outputs": [],
   "source": [
    "# !mv /home/jupyter/highway/val/images_total/*/* /home/jupyter/highway/val/images"
   ]
  },
  {
   "cell_type": "code",
   "execution_count": 159,
   "id": "eba34c1e-b29a-4aab-a85e-1a39e02caf2b",
   "metadata": {
    "tags": []
   },
   "outputs": [],
   "source": [
    "# 빈껍데기 폴더 정리\n",
    "# !rm -r /home/jupyter/highway/val/images/*/"
   ]
  },
  {
   "cell_type": "markdown",
   "id": "5ebc67cd-23eb-4530-a664-5a64bcc90ec5",
   "metadata": {},
   "source": [
    "### 위에코드가 리스트 목록이 크면 안되는 경우가 있다고 함, 안되면 실행 -> 위의 move_folder 함수 사용으로 대체함"
   ]
  },
  {
   "cell_type": "code",
   "execution_count": 160,
   "id": "e906fe2f-71b9-4200-9543-dc6fa6b7d635",
   "metadata": {
    "tags": []
   },
   "outputs": [],
   "source": [
    "# !find /home/jupyter/highway/train/labels/* -type f -exec mv -t /home/jupyter/highway/train/labels/ {} +"
   ]
  },
  {
   "cell_type": "code",
   "execution_count": 161,
   "id": "2523a406-5172-4a1f-b5b4-3ab785f8f283",
   "metadata": {
    "tags": []
   },
   "outputs": [],
   "source": [
    "# !rm -r /home/jupyter/highway/train/labels/*/"
   ]
  },
  {
   "cell_type": "code",
   "execution_count": null,
   "id": "7d62a2e2-a956-4fe0-8a3f-da4464964297",
   "metadata": {},
   "outputs": [],
   "source": []
  },
  {
   "cell_type": "markdown",
   "id": "ffb6f9b8-d89a-4223-9f40-a67c6cac88eb",
   "metadata": {},
   "source": [
    "## 파일명 일치 확인\n",
    "- 파일명일치확인.ipynb 파일 참조"
   ]
  },
  {
   "cell_type": "code",
   "execution_count": null,
   "id": "baedc1fc-538c-4e91-9797-254a3bf6e040",
   "metadata": {},
   "outputs": [],
   "source": []
  },
  {
   "cell_type": "markdown",
   "id": "2e8e1730-7d98-4ad9-9db4-c7565344a799",
   "metadata": {},
   "source": [
    "## 최종 전처리 결과 파일 개수가 일치하는것을 확인"
   ]
  },
  {
   "cell_type": "code",
   "execution_count": 268,
   "id": "92dd9928-8a72-4fa6-a147-8ca63d34a24e",
   "metadata": {
    "tags": []
   },
   "outputs": [
    {
     "name": "stdout",
     "output_type": "stream",
     "text": [
      "train 데이터 개수: image:24101, labels:24101\n",
      "val 데이터 개수: image:3333, labels:3333\n"
     ]
    }
   ],
   "source": [
    "# train 데이터와 valid 데이터의 images, laebels 데이터 개수가 같은지 확인\n",
    "# 현재 다르게 나옴\n",
    "\n",
    "import glob\n",
    "a = len(glob.glob(dataPath+\"/highway/train/images/*\"))\n",
    "b = len(glob.glob(dataPath+\"/highway/train/labels/*\"))\n",
    "c = len(glob.glob(dataPath+\"/highway/val/images/*\"))\n",
    "d = len(glob.glob(dataPath+\"/highway/val/labels/*\"))\n",
    "print('train 데이터 개수: image:{}, labels:{}'.format(a, b))\n",
    "print('val 데이터 개수: image:{}, labels:{}'.format(c, d))"
   ]
  },
  {
   "cell_type": "code",
   "execution_count": null,
   "id": "4f1d6904-df85-440e-8a28-44995471df63",
   "metadata": {},
   "outputs": [],
   "source": []
  },
  {
   "cell_type": "markdown",
   "id": "12763174-cb53-4ae0-a72c-caa50ba21b63",
   "metadata": {},
   "source": [
    "## 이제 YOLO 모델 학습 시작해보기\n",
    "- 고속도로CCTV데이터기반차량인식.ipynb 파일 참고"
   ]
  },
  {
   "cell_type": "code",
   "execution_count": null,
   "id": "18bfb9cd-0a9c-478c-b801-b1bb4af356f7",
   "metadata": {},
   "outputs": [],
   "source": []
  }
 ],
 "metadata": {
  "environment": {
   "kernel": "python3",
   "name": ".m113",
   "type": "gcloud",
   "uri": "gcr.io/deeplearning-platform-release/:m113"
  },
  "kernelspec": {
   "display_name": "Python 3",
   "language": "python",
   "name": "python3"
  },
  "language_info": {
   "codemirror_mode": {
    "name": "ipython",
    "version": 3
   },
   "file_extension": ".py",
   "mimetype": "text/x-python",
   "name": "python",
   "nbconvert_exporter": "python",
   "pygments_lexer": "ipython3",
   "version": "3.10.13"
  }
 },
 "nbformat": 4,
 "nbformat_minor": 5
}
